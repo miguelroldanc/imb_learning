{
  "cells": [
    {
      "cell_type": "markdown",
      "metadata": {
        "id": "8Tg5pzZBOds6"
      },
      "source": [
        "# Learning from Imbalanced Datasets\n",
        " Partially adapted from \"Machine Learning Mastery\".\n"
      ]
    },
    {
      "cell_type": "markdown",
      "metadata": {
        "id": "JTvV2ex_OtoZ"
      },
      "source": [
        "This course is for developers that may know some applied machine learning. Maybe you know how to work through a predictive modeling problem end-to-end, or at least most of the main steps, with popular tools.\n",
        "\n",
        "The lessons in this course do assume a few things about you, such as:\n",
        "\n",
        "- You know your way around basic Python for programming.\n",
        "- You may know some basic NumPy for array manipulation.\n",
        "- You may know some basic scikit-learn for modeling.\n",
        "\n",
        "You do NOT need to be:\n",
        "- A math wiz!\n",
        "- A machine learning expert!\n",
        "\n",
        "This crash course will take you from a developer who knows a little machine learning to a developer who can navigate an imbalanced classification project."
      ]
    },
    {
      "attachments": {},
      "cell_type": "markdown",
      "metadata": {
        "id": "__tTGjecO1u5"
      },
      "source": [
        "## Lesson 01: Challenge of Imbalanced Classification\n",
        "\n",
        "In this lesson, you will discover the challenge of imbalanced classification problems.\n",
        "\n",
        "*Imbalanced classification problems* pose a challenge for predictive modeling as most of the machine learning algorithms used for classification were designed around the assumption of an equal number of examples for each class.\n",
        "\n",
        "This results in models that have poor predictive performance, specifically for the minority class. This is a problem because typically, the minority class is more important and therefore the problem is more sensitive to classification errors for the minority class than the majority class.\n",
        "\n",
        "- Majority Class: More than half of the examples belong to this class, often the negative or normal case.\n",
        "- Minority Class: Less than half of the examples belong to this class, often the positive or abnormal case.\n",
        "\n",
        "A classification problem may be a little skewed, such as if there is a slight imbalance. Alternately, the classification problem may have a severe imbalance where there might be hundreds or thousands of examples in one class and tens of examples in another class for a given training dataset.\n",
        "\n",
        "- Slight Imbalance. Where the distribution of examples is uneven by a small amount in the training dataset (e.g. 4:6).\n",
        "- Severe Imbalance. Where the distribution of examples is uneven by a large amount in the training dataset (e.g. 1:100 or more).\n",
        "\n",
        "Many of the classification predictive modeling problems that we are interested in solving in practice are imbalanced.\n",
        "\n",
        "As such, it is surprising that imbalanced classification does not get more attention than it does.\n",
        "\n"
      ]
    },
    {
      "attachments": {},
      "cell_type": "markdown",
      "metadata": {
        "id": "iiexQb6ZPDRi"
      },
      "source": [
        "### Your task\n",
        "For this lesson, you must list five general examples of problems that inherently have a class imbalance.\n",
        "\n",
        "* Fraud detection.\n",
        "* Healthcare system.\n",
        "* NPL (feeling detection on social media).\n",
        "\n",
        "In the next lesson, you will discover how to develop an intuition for skewed class distributions."
      ]
    },
    {
      "attachments": {},
      "cell_type": "markdown",
      "metadata": {
        "id": "sPE7MYhGPI8k"
      },
      "source": [
        "## Lesson 02: Intuition for Imbalanced Data\n",
        "In this lesson, you will discover how to develop a practical intuition for imbalanced classification datasets.\n",
        "\n",
        "A challenge for beginners working with imbalanced classification problems is what a specific skewed class distribution means. For example, what is the difference and implication for a 1:10 vs. a 1:100 class ratio?\n",
        "\n",
        "The `make_classification()` scikit-learn function can be used to define a synthetic dataset with a desired class imbalance. The **“weights”** argument specifies the ratio of examples in the negative class, e.g. [0.99, 0.01] means that 99 percent of the examples will belong to the majority class, and the remaining 1 percent will belong to the minority class."
      ]
    },
    {
      "cell_type": "code",
      "execution_count": 1,
      "metadata": {
        "id": "bQPbnZi6OacV"
      },
      "outputs": [],
      "source": [
        "from sklearn.datasets import make_classification\n",
        "\n",
        "# define dataset\n",
        "X, y = make_classification(n_samples=10000, n_features=2, n_redundant=0, n_clusters_per_class=1, weights=[0.95], flip_y=0, class_sep=0.8, random_state=250)"
      ]
    },
    {
      "cell_type": "markdown",
      "metadata": {
        "id": "rDx3XQeiSi3G"
      },
      "source": [
        "Here we define the WEIGHTS for the weights of the mayority class."
      ]
    },
    {
      "cell_type": "markdown",
      "metadata": {
        "id": "HZRDuEFfP5TU"
      },
      "source": [
        "Once defined, we can summarize the class distribution using a `Counter` object to get an idea of exactly how many examples belong to each class."
      ]
    },
    {
      "cell_type": "code",
      "execution_count": 2,
      "metadata": {
        "colab": {
          "base_uri": "https://localhost:8080/"
        },
        "id": "BIROXXRRP7If",
        "outputId": "1d2bbe17-bece-467e-de06-013751654141"
      },
      "outputs": [
        {
          "name": "stdout",
          "output_type": "stream",
          "text": [
            "Counter({0: 9500, 1: 500})\n"
          ]
        }
      ],
      "source": [
        "from collections import Counter\n",
        "\n",
        "# summarize class distribution\n",
        "counter = Counter(y)\n",
        "print(counter)"
      ]
    },
    {
      "cell_type": "markdown",
      "metadata": {
        "id": "U6TKpHnfQIM6"
      },
      "source": [
        "We can also create a scatter plot of the dataset because there are only two input variables. The dots can then be colored by each class. This plot provides a visual intuition for what exactly a 99 percent vs. 1 percent majority/minority class imbalance looks like in practice.\n",
        "\n",
        "The complete example of creating and summarizing an imbalanced classification dataset is listed below."
      ]
    },
    {
      "cell_type": "code",
      "execution_count": 3,
      "metadata": {
        "colab": {
          "base_uri": "https://localhost:8080/",
          "height": 268
        },
        "id": "WIktc-AKQKbn",
        "outputId": "31ef6a3d-0254-4fa7-bb85-1f6e67dae99a"
      },
      "outputs": [
        {
          "data": {
            "image/png": "[encoded data removed]",
            "text/plain": [
              "<Figure size 432x288 with 1 Axes>"
            ]
          },
          "metadata": {
            "needs_background": "light"
          },
          "output_type": "display_data"
        }
      ],
      "source": [
        "# plot imbalanced classification problem\n",
        "from matplotlib import pyplot\n",
        "from numpy import where\n",
        "\n",
        "# scatter plot of examples by class label\n",
        "for label, _ in counter.items():\n",
        "\trow_ix = where(y == label)[0]\n",
        "\tpyplot.scatter(X[row_ix, 0], X[row_ix, 1], label=str(label))\n",
        "pyplot.legend()\n",
        "pyplot.show()"
      ]
    },
    {
      "attachments": {},
      "cell_type": "markdown",
      "metadata": {
        "id": "FuwkteD_Qa5x"
      },
      "source": [
        "## Lesson 03: Evaluate Imbalanced Classification Models\n",
        "In this lesson, you will discover how to evaluate models on imbalanced classification problems.\n",
        "\n",
        "Prediction accuracy is the most common metric for classification tasks, although it is inappropriate and potentially dangerously misleading when used on imbalanced classification tasks.\n",
        "\n",
        "The reason for this is because if 98 percent of the data belongs to the negative class, you can achieve 98 percent accuracy on average by simply predicting the negative class all the time, achieving a score that naively looks good, but in practice has no skill.\n",
        "\n",
        "Instead, alternate performance metrics must be adopted.\n",
        "\n",
        "Popular alternatives are the precision and recall scores that allow the performance of the model to be considered by focusing on the minority class, called the positive class.\n",
        "\n",
        "- Precision calculates the ratio of the number of correctly predicted positive examples divided by the total number of positive examples that were predicted. Maximizing the precision will minimize the false positives:\n",
        "\n",
        "  - $Precision = \\frac{TruePositives}{TruePositives + FalsePositives}$\n",
        "\n",
        "- Recall predicts the ratio of the total number of correctly predicted positive examples divided by the total number of positive examples that could have been predicted. Maximizing recall will minimize false negatives:\n",
        "\n",
        "  - $Recall = \\frac{TruePositives}{TruePositives + FalseNegatives}$\n",
        "\n",
        "- The performance of a model can be summarized by a single score that averages both the precision and the recall, called the F-Measure. Maximizing the F-Measure will maximize both the precision and recall at the same time:\n",
        "\n",
        "  - $F-measure = \\frac{(2 \\cdot Precision \\cdot Recall)}{Precision + Recall}$\n",
        "\n",
        "The example below fits a logistic regression model on an imbalanced classification problem and calculates the accuracy, which can then be compared to the precision, recall, and F-measure."
      ]
    },
    {
      "cell_type": "code",
      "execution_count": 4,
      "metadata": {
        "colab": {
          "base_uri": "https://localhost:8080/"
        },
        "id": "27Iqr1AYQfq-",
        "outputId": "1f7380df-b9cd-4675-979e-2b7d6e70ccc1"
      },
      "outputs": [
        {
          "name": "stdout",
          "output_type": "stream",
          "text": [
            "Accuracy: 0.961\n",
            "Precision: 0.733\n",
            "Recall: 0.330\n",
            "F-measure: 0.455\n"
          ]
        }
      ],
      "source": [
        "# evaluate imbalanced classification model with different metrics\n",
        "from sklearn.model_selection import train_test_split\n",
        "from sklearn.linear_model import LogisticRegression\n",
        "from sklearn.metrics import accuracy_score\n",
        "from sklearn.metrics import precision_score\n",
        "from sklearn.metrics import recall_score\n",
        "from sklearn.metrics import f1_score\n",
        "\n",
        "# split into train/test sets with same class ratio\n",
        "trainX, testX, trainy, testy = train_test_split(X, y, test_size=0.2, stratify=y)\n",
        "# define model\n",
        "model = LogisticRegression(solver='liblinear')\n",
        "# fit model\n",
        "model.fit(trainX, trainy)\n",
        "# predict on test set\n",
        "yhat = model.predict(testX)\n",
        "# evaluate predictions\n",
        "print('Accuracy: %.3f' % accuracy_score(testy, yhat))\n",
        "print('Precision: %.3f' % precision_score(testy, yhat))\n",
        "print('Recall: %.3f' % recall_score(testy, yhat))\n",
        "print('F-measure: %.3f' % f1_score(testy, yhat))"
      ]
    },
    {
      "cell_type": "markdown",
      "metadata": {
        "id": "FLHa0WxMUfhk"
      },
      "source": [
        "Aquí vemos que la precisión es muy alta porque hay un número bajo de falsos positivos pero sin embargo no se obtiene buena métrica de recall"
      ]
    },
    {
      "attachments": {},
      "cell_type": "markdown",
      "metadata": {
        "id": "E6Gm96ZDRMBU"
      },
      "source": [
        "## Lesson 04: Undersampling the Majority Class\n",
        "In this lesson, you will discover how to undersample the majority class in the training dataset.\n",
        "\n",
        "A simple approach to using standard machine learning algorithms on an imbalanced dataset is to change the training dataset to have a more balanced class distribution.\n",
        "\n",
        "This can be achieved by deleting examples from the majority class, referred to as “undersampling.” A possible downside is that examples from the majority class that are helpful during modeling may be deleted.\n",
        "\n",
        "The `imbalanced-learn` library provides many examples of undersampling algorithms. This library can be installed easily using pip; for example:"
      ]
    },
    {
      "cell_type": "code",
      "execution_count": 5,
      "metadata": {
        "colab": {
          "base_uri": "https://localhost:8080/"
        },
        "id": "WOiZJ0csRU-z",
        "outputId": "dc0a4949-a0a4-49de-eb2b-1ae1ac5aa416"
      },
      "outputs": [
        {
          "name": "stdout",
          "output_type": "stream",
          "text": [
            "Defaulting to user installation because normal site-packages is not writeable\n",
            "Requirement already satisfied: imbalanced-learn in /home/miguel/.local/lib/python3.10/site-packages (0.9.1)\n",
            "Requirement already satisfied: numpy>=1.17.3 in /home/miguel/.local/lib/python3.10/site-packages (from imbalanced-learn) (1.23.5)\n",
            "Requirement already satisfied: joblib>=1.0.0 in /home/miguel/.local/lib/python3.10/site-packages (from imbalanced-learn) (1.2.0)\n",
            "Requirement already satisfied: scikit-learn>=1.1.0 in /home/miguel/.local/lib/python3.10/site-packages (from imbalanced-learn) (1.1.3)\n",
            "Requirement already satisfied: scipy>=1.3.2 in /usr/lib/python3/dist-packages (from imbalanced-learn) (1.8.0)\n",
            "Requirement already satisfied: threadpoolctl>=2.0.0 in /home/miguel/.local/lib/python3.10/site-packages (from imbalanced-learn) (3.1.0)\n",
            "Note: you may need to restart the kernel to use updated packages.\n"
          ]
        }
      ],
      "source": [
        "pip install imbalanced-learn"
      ]
    },
    {
      "cell_type": "markdown",
      "metadata": {
        "id": "p5BFz_SoRbYK"
      },
      "source": [
        "A fast and reliable approach is to randomly delete examples from the majority class to reduce the imbalance to a ratio that is less severe or even so that the classes are even.\n",
        "\n",
        "The example below creates a synthetic imbalanced classification data, then uses `RandomUnderSampler` class to change the class distribution from 1:100 minority to majority classes to the less severe 1:2."
      ]
    },
    {
      "cell_type": "code",
      "execution_count": 6,
      "metadata": {
        "colab": {
          "base_uri": "https://localhost:8080/"
        },
        "id": "aI2YeC1JRgNj",
        "outputId": "ec862137-79f5-418a-e8bd-ea97fbb5596e"
      },
      "outputs": [
        {
          "name": "stdout",
          "output_type": "stream",
          "text": [
            "Counter({0: 9500, 1: 500})\n",
            "Counter({0: 1000, 1: 500})\n"
          ]
        }
      ],
      "source": [
        "# example of undersampling the majority class\n",
        "from imblearn.under_sampling import RandomUnderSampler\n",
        "from sklearn.model_selection import GridSearchCV\n",
        "\n",
        "\n",
        "# recall initial class distribution\n",
        "print(Counter(y))\n",
        "# define undersample strategy\n",
        "undersample = RandomUnderSampler(sampling_strategy=0.5)\n",
        "# fit and apply the transform\n",
        "X_under, y_under = undersample.fit_resample(X, y)\n",
        "# summarize class distribution\n",
        "print(Counter(y_under))"
      ]
    },
    {
      "cell_type": "markdown",
      "metadata": {
        "id": "9RPR91_kVcbH"
      },
      "source": [
        "El ratio nos indica el número de elementos que vamos a tener de la clase mayoritaria en comparación con la clase minoritaria."
      ]
    },
    {
      "cell_type": "markdown",
      "metadata": {
        "id": "8-eKzJdARnck"
      },
      "source": [
        "### Your Task\n",
        "For this lesson, you must run the example and note the change in the class distribution before and after undersampling the majority class.\n",
        "\n",
        "Additionally, you may plot the resulting training data and, of course, check the performance of the simple logistic regressor.\n",
        "\n",
        "For bonus points, try other undersampling ratios or even try other undersampling techniques provided by the `imbalanced-learn` library, and repeat the process. \n",
        "\n",
        "\n",
        "\n",
        "In the next lesson, you will discover how to oversample the minority class.\n",
        "\n"
      ]
    },
    {
      "cell_type": "code",
      "execution_count": 7,
      "metadata": {
        "colab": {
          "base_uri": "https://localhost:8080/",
          "height": 265
        },
        "id": "psVZDpRK0Beb",
        "outputId": "ca6fb440-3d87-4f25-ea34-892434e1c80e"
      },
      "outputs": [
        {
          "data": {
            "image/png": "[encoded data removed]",
            "text/plain": [
              "<Figure size 432x288 with 1 Axes>"
            ]
          },
          "metadata": {
            "needs_background": "light"
          },
          "output_type": "display_data"
        }
      ],
      "source": [
        "for label, _ in counter.items():\n",
        "\trow_ix = where(y_under == label)[0]\n",
        "\tpyplot.scatter(X_under[row_ix, 0], X_under[row_ix, 1], label=str(label))\n",
        "pyplot.legend()\n",
        "pyplot.show()"
      ]
    },
    {
      "cell_type": "code",
      "execution_count": 8,
      "metadata": {
        "colab": {
          "base_uri": "https://localhost:8080/"
        },
        "id": "uL5CxYGUWCQx",
        "outputId": "bbb7592c-bdce-4101-b945-b4103cf23fd9"
      },
      "outputs": [
        {
          "name": "stdout",
          "output_type": "stream",
          "text": [
            "Accuracy: 0.849\n",
            "Precision: 0.813\n",
            "Recall: 0.712\n",
            "F-measure: 0.759\n"
          ]
        }
      ],
      "source": [
        "# split into train/test sets with same class ratio\n",
        "trainX, testX, trainy, testy = train_test_split(X_under, y_under, test_size=0.5, stratify=y_under)\n",
        "# define model\n",
        "model = LogisticRegression(solver='liblinear')\n",
        "# fit model\n",
        "model.fit(trainX, trainy)\n",
        "# predict on test set\n",
        "yhat = model.predict(testX)\n",
        "# evaluate predictions\n",
        "print('Accuracy: %.3f' % accuracy_score(testy, yhat))\n",
        "print('Precision: %.3f' % precision_score(testy, yhat))\n",
        "print('Recall: %.3f' % recall_score(testy, yhat))\n",
        "print('F-measure: %.3f' % f1_score(testy, yhat))"
      ]
    },
    {
      "attachments": {},
      "cell_type": "markdown",
      "metadata": {
        "id": "a7GSJQreRvcB"
      },
      "source": [
        "## Lesson 05: Oversampling the Minority Class\n",
        "In this lesson, you will discover how to oversample the minority class in the training dataset.\n",
        "\n",
        "An alternative to deleting examples from the majority class is to add new examples from the minority class.\n",
        "\n",
        "This can be achieved by simply duplicating examples in the minority class, but these examples do not add any new information. Instead, new examples from the minority can be synthesized using existing examples in the training dataset. These new examples will be “close” to existing examples in the feature space, but different in small but random ways.\n",
        "\n",
        "The SMOTE algorithm is a popular approach for oversampling the minority class. This technique can be used to reduce the imbalance or to make the class distribution even.\n",
        "\n",
        "The example below demonstrates using the SMOTE class provided by the imbalanced-learn library on a synthetic dataset. The initial class distribution is 1:100 and the minority class is oversampled to a 1:2 distribution.\n",
        "\n"
      ]
    },
    {
      "cell_type": "code",
      "execution_count": 9,
      "metadata": {
        "colab": {
          "base_uri": "https://localhost:8080/"
        },
        "id": "hHmz1Lc4R1Jq",
        "outputId": "4618b481-d440-41f2-da4d-99d3954ab34b"
      },
      "outputs": [
        {
          "name": "stdout",
          "output_type": "stream",
          "text": [
            "Counter({0: 9500, 1: 500})\n",
            "Counter({0: 9500, 1: 4750})\n"
          ]
        }
      ],
      "source": [
        "# example of oversampling the minority class\n",
        "from imblearn.over_sampling import SMOTE\n",
        "\n",
        "# recall initial class distribution\n",
        "print(Counter(y))\n",
        "# define oversample strategy\n",
        "oversample = SMOTE(sampling_strategy=0.5)\n",
        "# fit and apply the transform\n",
        "X_over, y_over = oversample.fit_resample(X, y)\n",
        "# summarize class distribution\n",
        "print(Counter(y_over))"
      ]
    },
    {
      "attachments": {},
      "cell_type": "markdown",
      "metadata": {
        "id": "FypnzHHuR7CN"
      },
      "source": [
        "### Your Task\n",
        "For this lesson, you must run the example and note the change in the class distribution before and after oversampling the minority class.\n",
        "\n",
        "Additionally, you may plot the resulting training data and, of course, check the performance of the simple logistic regressor.\n",
        "\n",
        "For bonus points, try other oversampling ratios, or even try other oversampling techniques provided by the `imbalanced-learn` library.\n",
        "\n",
        "\n",
        "\n",
        "In the next lesson, you will discover how to combine undersampling and oversampling techniques."
      ]
    },
    {
      "cell_type": "code",
      "execution_count": 10,
      "metadata": {
        "colab": {
          "base_uri": "https://localhost:8080/",
          "height": 268
        },
        "id": "bAkP_EWo0QlG",
        "outputId": "ff49016d-3b5f-41a9-cec6-8ed6d1a1a6a6"
      },
      "outputs": [
        {
          "data": {
            "image/png": "[encoded data removed]",
            "text/plain": [
              "<Figure size 432x288 with 1 Axes>"
            ]
          },
          "metadata": {
            "needs_background": "light"
          },
          "output_type": "display_data"
        }
      ],
      "source": [
        "for label, _ in counter.items():\n",
        "\trow_ix = where(y_over == label)[0]\n",
        "\tpyplot.scatter(X_over[row_ix, 0], X_over[row_ix, 1], label=str(label))\n",
        "pyplot.legend()\n",
        "pyplot.show()"
      ]
    },
    {
      "cell_type": "code",
      "execution_count": 11,
      "metadata": {
        "colab": {
          "base_uri": "https://localhost:8080/"
        },
        "id": "N47nCT_pYj9w",
        "outputId": "40ef12f3-4305-49f2-fbaa-634b12e32c5b"
      },
      "outputs": [
        {
          "name": "stdout",
          "output_type": "stream",
          "text": [
            "Accuracy: 0.858\n",
            "Precision: 0.819\n",
            "Recall: 0.737\n",
            "F-measure: 0.776\n"
          ]
        }
      ],
      "source": [
        "# split into train/test sets with same class ratio\n",
        "trainX, testX, trainy, testy = train_test_split(X_over, y_over, test_size=0.5, stratify=y_over)\n",
        "# define model\n",
        "model = LogisticRegression(solver='liblinear')\n",
        "# fit model\n",
        "model.fit(trainX, trainy)\n",
        "# predict on test set\n",
        "yhat = model.predict(testX)\n",
        "# evaluate predictions\n",
        "print('Accuracy: %.3f' % accuracy_score(testy, yhat))\n",
        "print('Precision: %.3f' % precision_score(testy, yhat))\n",
        "print('Recall: %.3f' % recall_score(testy, yhat))\n",
        "print('F-measure: %.3f' % f1_score(testy, yhat))"
      ]
    },
    {
      "cell_type": "markdown",
      "metadata": {
        "id": "q1zBzn57R9hl"
      },
      "source": [
        "## Lesson 06: Combine Data Undersampling and Oversampling\n",
        "In this lesson, you will discover how to combine data undersampling and oversampling on a training dataset.\n",
        "\n",
        "Data undersampling will delete examples from the majority class, whereas data oversampling will add examples to the minority class. These two approaches can be combined and used on a single training dataset.\n",
        "\n",
        "Given that there are so many different data sampling techniques to choose from, it can be confusing as to which methods to combine. Thankfully, there are common combinations that have been shown to work well in practice; some examples include:\n",
        "\n",
        "- Random Undersampling with SMOTE oversampling.\n",
        "- Tomek Links Undersampling with SMOTE oversampling.\n",
        "- Edited Nearest Neighbors Undersampling with SMOTE oversampling.\n",
        "\n",
        "These combinations can be applied manually to a given training dataset by first applying one sampling algorithm, then another. Thankfully, the `imbalanced-learn` library provides implementations of common combined data sampling techniques.\n",
        "\n",
        "The example below demonstrates how to use the SMOTEENN that combines both SMOTE oversampling of the minority class and Edited Nearest Neighbors undersampling of the majority class.\n",
        "\n"
      ]
    },
    {
      "cell_type": "code",
      "execution_count": 12,
      "metadata": {
        "colab": {
          "base_uri": "https://localhost:8080/"
        },
        "id": "JdFhGVpoSFWn",
        "outputId": "7ac4cfe7-7a9b-4381-a6ba-212190f5c7ff"
      },
      "outputs": [
        {
          "name": "stdout",
          "output_type": "stream",
          "text": [
            "Counter({0: 9500, 1: 500})\n",
            "Counter({0: 7738, 1: 3422})\n"
          ]
        }
      ],
      "source": [
        "# example of both undersampling and oversampling\n",
        "from imblearn.combine import SMOTEENN\n",
        "\n",
        "# recall initial class distribution\n",
        "print(Counter(y))\n",
        "# define sampling strategy\n",
        "sample = SMOTEENN(sampling_strategy=0.5)\n",
        "# fit and apply the transform\n",
        "X_over, y_over = sample.fit_resample(X, y)\n",
        "# summarize class distribution\n",
        "print(Counter(y_over))"
      ]
    },
    {
      "cell_type": "code",
      "execution_count": 13,
      "metadata": {
        "colab": {
          "base_uri": "https://localhost:8080/",
          "height": 268
        },
        "id": "Y_vQop6oZBSJ",
        "outputId": "7c27d426-dbf1-46ae-8c00-bfcaf84a0a72"
      },
      "outputs": [
        {
          "data": {
            "image/png": "[encoded data removed]",
            "text/plain": [
              "<Figure size 432x288 with 1 Axes>"
            ]
          },
          "metadata": {
            "needs_background": "light"
          },
          "output_type": "display_data"
        }
      ],
      "source": [
        "for label, _ in counter.items():\n",
        "\trow_ix = where(y_over == label)[0]\n",
        "\tpyplot.scatter(X_over[row_ix, 0], X_over[row_ix, 1], label=str(label))\n",
        "pyplot.legend()\n",
        "pyplot.show()"
      ]
    },
    {
      "cell_type": "code",
      "execution_count": 14,
      "metadata": {
        "colab": {
          "base_uri": "https://localhost:8080/"
        },
        "id": "d0yF-nJacsTR",
        "outputId": "5b0585a5-9928-45fa-bd71-9a5917d1f8ce"
      },
      "outputs": [
        {
          "name": "stdout",
          "output_type": "stream",
          "text": [
            "Accuracy: 0.938\n",
            "Precision: 0.900\n",
            "Recall: 0.898\n",
            "F-measure: 0.899\n"
          ]
        }
      ],
      "source": [
        "# split into train/test sets with same class ratio\n",
        "trainX, testX, trainy, testy = train_test_split(X_over, y_over, test_size=0.5, stratify=y_over)\n",
        "# define model\n",
        "model = LogisticRegression(solver='liblinear')\n",
        "# fit model\n",
        "model.fit(trainX, trainy)\n",
        "# predict on test set\n",
        "yhat = model.predict(testX)\n",
        "# evaluate predictions\n",
        "print('Accuracy: %.3f' % accuracy_score(testy, yhat))\n",
        "print('Precision: %.3f' % precision_score(testy, yhat))\n",
        "print('Recall: %.3f' % recall_score(testy, yhat))\n",
        "print('F-measure: %.3f' % f1_score(testy, yhat))"
      ]
    },
    {
      "cell_type": "markdown",
      "metadata": {
        "id": "rWTaqc0PSL0q"
      },
      "source": [
        "### Your Task\n",
        "For this lesson, you must run the example and note the change in the class distribution before and after the data sampling.\n",
        "\n",
        "Additionally, you may plot the resulting training data and, of course, check the performance of the simple logistic regressor.\n",
        "\n",
        "For bonus points, try other combined data sampling techniques or even try manually applying oversampling followed by undersampling on the dataset. For this purpose, you may take advantage of the `Pipeline` tool. \n",
        "\n",
        "\n",
        "\n",
        "In the next lesson, you will discover how to use cost-sensitive algorithms for imbalanced classification."
      ]
    },
    {
      "attachments": {},
      "cell_type": "markdown",
      "metadata": {
        "id": "_hpdZFTtSbpt"
      },
      "source": [
        "## Lesson 07: Cost-Sensitive Algorithms\n",
        "In this lesson, you will discover how to use cost-sensitive algorithms for imbalanced classification.\n",
        "\n",
        "Most machine learning algorithms assume that all misclassification errors made by a model are equal. This is often not the case for imbalanced classification problems, where missing a **positive** or **minority class** case is worse than incorrectly classifying an example from the negative or majority class.\n",
        "\n",
        "Cost-sensitive learning is a subfield of machine learning that takes the costs of prediction errors (and potentially other costs) into account when training a machine learning model. Many machine learning algorithms can be updated to be cost-sensitive, where the model is penalized for misclassification errors from one class more than the other, such as the minority class.\n",
        "\n",
        "The scikit-learn library provides this capability for a range of algorithms via the `class_weight` attribute specified when defining the model. A weighting can be specified that is inversely proportional to the class distribution.\n",
        "\n",
        "If the class distribution was 0.99 to 0.01 for the majority and minority classes, then the `class_weight` argument could be defined as a dictionary that defines a penalty of 0.01 for errors made for the majority class and a penalty of 0.99 for errors made with the minority class, e.g. {0:0.01, 1:0.99}.\n",
        "\n",
        "This is a useful heuristic and can be configured automatically by setting the `class_weight` argument to the string `‘balanced‘`.\n",
        "\n",
        "The example below demonstrates how to define and fit a cost-sensitive logistic regression model on an imbalanced classification dataset."
      ]
    },
    {
      "cell_type": "code",
      "execution_count": 15,
      "metadata": {
        "colab": {
          "base_uri": "https://localhost:8080/"
        },
        "id": "1Gn-3-1hSeoi",
        "outputId": "9ecc43f0-a20f-46a8-9c72-59c18e4d2a89"
      },
      "outputs": [
        {
          "name": "stdout",
          "output_type": "stream",
          "text": [
            "Accuracy: 0.932\n",
            "Precision: 0.857\n",
            "Recall: 0.936\n",
            "F-measure: 0.895\n"
          ]
        }
      ],
      "source": [
        "# example of cost sensitive logistic regression for imbalanced classification\n",
        "\n",
        "# define CS model\n",
        "model = LogisticRegression(solver='liblinear', class_weight='balanced')\n",
        "# fit model\n",
        "model.fit(trainX, trainy)\n",
        "# predict on test set\n",
        "yhat = model.predict(testX)\n",
        "# evaluate predictions\n",
        "print('Accuracy: %.3f' % accuracy_score(testy, yhat))\n",
        "print('Precision: %.3f' % precision_score(testy, yhat))\n",
        "print('Recall: %.3f' % recall_score(testy, yhat))\n",
        "print('F-measure: %.3f' % f1_score(testy, yhat))"
      ]
    },
    {
      "cell_type": "code",
      "execution_count": 16,
      "metadata": {
        "colab": {
          "base_uri": "https://localhost:8080/"
        },
        "id": "fz4QaYFMdnUg",
        "outputId": "36afd3f8-c672-472c-b3db-40660930432c"
      },
      "outputs": [
        {
          "name": "stdout",
          "output_type": "stream",
          "text": [
            "Accuracy: 0.938\n",
            "Precision: 0.900\n",
            "Recall: 0.898\n",
            "F-measure: 0.899\n"
          ]
        }
      ],
      "source": [
        "# define CS model\n",
        "model = LogisticRegression(solver='liblinear')\n",
        "# fit model\n",
        "model.fit(trainX, trainy)\n",
        "# predict on test set\n",
        "yhat = model.predict(testX)\n",
        "# evaluate predictions\n",
        "print('Accuracy: %.3f' % accuracy_score(testy, yhat))\n",
        "print('Precision: %.3f' % precision_score(testy, yhat))\n",
        "print('Recall: %.3f' % recall_score(testy, yhat))\n",
        "print('F-measure: %.3f' % f1_score(testy, yhat))"
      ]
    },
    {
      "cell_type": "markdown",
      "metadata": {
        "id": "wxXAmm8dSmR4"
      },
      "source": [
        "### Your Task\n",
        "For this lesson, you must run the example and review the performance of the cost-sensitive model.\n",
        "\n",
        "For bonus points, compare the performance to the cost-insensitive version of logistic regression.\n",
        "\n",
        "\n",
        "This was the final lesson of the mini-course."
      ]
    },
    {
      "cell_type": "markdown",
      "metadata": {
        "id": "LEjiwjQXSyED"
      },
      "source": [
        "## The End!\n",
        "### (Look How Far You Have Come)\n",
        "You made it. Well done!\n",
        "\n",
        "Take a moment and look back at how far you have come.\n",
        "\n",
        "You discovered:\n",
        "\n",
        "- The challenge of imbalanced classification is the lack of examples for the minority class and the difference in importance of classification errors across the classes.\n",
        "- How to develop a spatial intuition for imbalanced classification datasets that might inform data preparation and algorithm selection.\n",
        "- The failure of classification accuracy and how alternate metrics like precision, recall, and the F-measure can better summarize model performance on imbalanced datasets.\n",
        "- How to delete examples from the majority class in the training dataset, referred to as data undersampling.\n",
        "- How to synthesize new examples in the minority class in the training dataset, referred to as data oversampling.\n",
        "- How to combine data oversampling and undersampling techniques on the training dataset, and common combinations that result in good performance.\n",
        "-How to use cost-sensitive modified versions of machine learning algorithms to improve performance on imbalanced classification datasets.\n"
      ]
    },
    {
      "cell_type": "markdown",
      "metadata": {
        "id": "T7CRdrFYp7_6"
      },
      "source": [
        "## Activities to be carried out\n",
        "Now it is your turn to check whether you have understood the nature of the imbalanced classification topic, and that you are able to address this issue properly. In order to do so, several activities are asked to test your skills. In particular, you must be able to:\n",
        "1. Provide a simple comparison of the different methods used so far, just to check out which one seems to have a better behavior with the toy problem build until now. \n",
        "2. Select a proper imbalanced dataset and carry out a proper experimental study in order to improve the predictive performance. You decide which metric you want to optimise, but you must justify your decision. Since this task involves several actions, it will be described with more detail in the corresponding subsection below. \n",
        "3. Finally, you may consider to extend the previous task by applying a through analysis using different preprocessing mechanism, classification algorithms, and hyperparametrization in order to get the best possible result. This part is **optional**.  \n",
        "\n",
        "In the corresponding sections, please do not hesitate to add more code and text blocks to make the structure and content clearer for the evaluation. "
      ]
    },
    {
      "attachments": {},
      "cell_type": "markdown",
      "metadata": {
        "id": "pWzTA8errWny"
      },
      "source": [
        "### 1. Simple comparison for solutions in imbalanced classification\n",
        "\n",
        "In this tutorial, you have checked the performance of different techniques for dealing with the skewed class distribution. Now it is time to carry out a local and global comparison among these, in order to check which one seems to provide a better performance. \n",
        "\n",
        "To this end, you should start with the baseline performance (no special method applied). Then, you must select among the undersampling approaches, which one seems to be more appropriate. Repeat the process with oversampling, and with hybrid approaches. You may also consider ensemble learning solutions. For cost-sensitive, you may also try \"thresholding\", by using the output probabilities and provide the *positive* or *negative* label using this: `y_pred = estimator.predict_proba(X_test)[:, 1] > .85`\n",
        "\n",
        "Finally, create a **global comparison** among the different families (undersampling, oversampling, hybrid, cost-sensitive, ensemble). You can use *statistical* tests for this purpose, in order to have well-founded conclusions. \n",
        "\n",
        "As a suggestion, use **AUC** as default metric to ease the complete procedure, but you may also check out how the recognition of both classes change for each approach applied. \n",
        "\n",
        "You can also use as default imbalance ratio for preprocessing 1:1 or 1:2, or rather to check different values for the sampling ratio to observe whether there are significant differences among the results. \n",
        "\n"
      ]
    },
    {
      "cell_type": "markdown",
      "metadata": {},
      "source": [
        "#### Creation and plotting of the dataset"
      ]
    },
    {
      "cell_type": "code",
      "execution_count": 17,
      "metadata": {},
      "outputs": [
        {
          "data": {
            "image/png": "[encoded data removed]",
            "text/plain": [
              "<Figure size 432x288 with 1 Axes>"
            ]
          },
          "metadata": {
            "needs_background": "light"
          },
          "output_type": "display_data"
        }
      ],
      "source": [
        "import pandas as pd\n",
        "import seaborn as sns\n",
        "from sklearn.metrics import roc_auc_score\n",
        "from sklearn.metrics import classification_report\n",
        "\n",
        "# Methods: Baseline, Undersampling, Oversampling, Combination, Cost-sensitive algorithms\n",
        "df_results = []\n",
        "\n",
        "X, y = make_classification(n_samples=10000, n_features=2, n_redundant=0, n_clusters_per_class=1, weights=[0.95], flip_y=0, class_sep=0.8, random_state=250)\n",
        "# scatter plot of examples by class label\n",
        "for label, _ in counter.items():\n",
        "\trow_ix = where(y == label)[0]\n",
        "\tpyplot.scatter(X[row_ix, 0], X[row_ix, 1], label=str(label))\n",
        "pyplot.legend()\n",
        "pyplot.show()"
      ]
    },
    {
      "attachments": {},
      "cell_type": "markdown",
      "metadata": {},
      "source": [
        "#### Baseline"
      ]
    },
    {
      "cell_type": "code",
      "execution_count": 18,
      "metadata": {},
      "outputs": [
        {
          "name": "stdout",
          "output_type": "stream",
          "text": [
            "              precision    recall  f1-score   support\n",
            "\n",
            "           0       0.97      0.99      0.98      4750\n",
            "           1       0.74      0.32      0.45       250\n",
            "\n",
            "    accuracy                           0.96      5000\n",
            "   macro avg       0.85      0.66      0.71      5000\n",
            "weighted avg       0.95      0.96      0.95      5000\n",
            "\n",
            "[{'Class': 'Baseline', 'ROC AUC': 0.6589473684210527}]\n"
          ]
        }
      ],
      "source": [
        "trainX, testX, trainy, testy = train_test_split(X, y, test_size=0.5, stratify=y)\n",
        "# define model\n",
        "model = LogisticRegression(solver='liblinear')\n",
        "# fit model\n",
        "model.fit(trainX, trainy)\n",
        "# predict on test set\n",
        "yhat = model.predict(testX)\n",
        "# evaluate predictions\n",
        "#print('ROC AUC: %.3f' % roc_auc_score(testy, yhat))\n",
        "print(classification_report(testy,yhat))\n",
        "df_results.append(\n",
        "    {\n",
        "        'Class':'Baseline',\n",
        "        'ROC AUC':roc_auc_score(testy,yhat)\n",
        "    }\n",
        ")\n",
        "\n",
        "print(df_results)"
      ]
    },
    {
      "attachments": {},
      "cell_type": "markdown",
      "metadata": {},
      "source": [
        "#### Undersampling, oversampling and hybrid approaches"
      ]
    },
    {
      "cell_type": "code",
      "execution_count": 19,
      "metadata": {},
      "outputs": [
        {
          "name": "stdout",
          "output_type": "stream",
          "text": [
            "RandomUnder\n",
            "              precision    recall  f1-score   support\n",
            "\n",
            "           0       0.99      0.84      0.91      4750\n",
            "           1       0.21      0.85      0.34       250\n",
            "\n",
            "    accuracy                           0.84      5000\n",
            "   macro avg       0.60      0.84      0.62      5000\n",
            "weighted avg       0.95      0.84      0.88      5000\n",
            "\n",
            "TomekLinks\n",
            "              precision    recall  f1-score   support\n",
            "\n",
            "           0       0.97      0.99      0.98      4750\n",
            "           1       0.68      0.34      0.46       250\n",
            "\n",
            "    accuracy                           0.96      5000\n",
            "   macro avg       0.82      0.67      0.72      5000\n",
            "weighted avg       0.95      0.96      0.95      5000\n",
            "\n",
            "ENN\n",
            "              precision    recall  f1-score   support\n",
            "\n",
            "           0       0.97      0.98      0.98      4750\n",
            "           1       0.53      0.52      0.53       250\n",
            "\n",
            "    accuracy                           0.95      5000\n",
            "   macro avg       0.75      0.75      0.75      5000\n",
            "weighted avg       0.95      0.95      0.95      5000\n",
            "\n",
            "RandomOver\n",
            "              precision    recall  f1-score   support\n",
            "\n",
            "           0       0.99      0.84      0.91      4750\n",
            "           1       0.22      0.86      0.35       250\n",
            "\n",
            "    accuracy                           0.84      5000\n",
            "   macro avg       0.61      0.85      0.63      5000\n",
            "weighted avg       0.95      0.84      0.88      5000\n",
            "\n",
            "ADASYN\n",
            "              precision    recall  f1-score   support\n",
            "\n",
            "           0       0.99      0.80      0.89      4750\n",
            "           1       0.19      0.88      0.31       250\n",
            "\n",
            "    accuracy                           0.81      5000\n",
            "   macro avg       0.59      0.84      0.60      5000\n",
            "weighted avg       0.95      0.81      0.86      5000\n",
            "\n",
            "SMOTE\n",
            "              precision    recall  f1-score   support\n",
            "\n",
            "           0       0.99      0.84      0.91      4750\n",
            "           1       0.22      0.85      0.35       250\n",
            "\n",
            "    accuracy                           0.84      5000\n",
            "   macro avg       0.61      0.85      0.63      5000\n",
            "weighted avg       0.95      0.84      0.88      5000\n",
            "\n",
            "SMOTE-ENN\n",
            "              precision    recall  f1-score   support\n",
            "\n",
            "           0       0.99      0.84      0.91      4750\n",
            "           1       0.21      0.85      0.34       250\n",
            "\n",
            "    accuracy                           0.84      5000\n",
            "   macro avg       0.60      0.84      0.62      5000\n",
            "weighted avg       0.95      0.84      0.88      5000\n",
            "\n",
            "SMOTE-TOMEK\n",
            "              precision    recall  f1-score   support\n",
            "\n",
            "           0       0.99      0.84      0.91      4750\n",
            "           1       0.22      0.85      0.35       250\n",
            "\n",
            "    accuracy                           0.84      5000\n",
            "   macro avg       0.61      0.85      0.63      5000\n",
            "weighted avg       0.95      0.84      0.88      5000\n",
            "\n",
            "[{'Class': 'Baseline', 'ROC AUC': 0.6589473684210527}, {'Class': 'RandomUnder', 'ROC AUC': 0.8418947368421053}, {'Class': 'TomekLinks', 'ROC AUC': 0.6677894736842104}, {'Class': 'ENN', 'ROC AUC': 0.7497894736842106}, {'Class': 'RandomOver', 'ROC AUC': 0.8477894736842105}, {'Class': 'ADASYN', 'ROC AUC': 0.8402105263157894}, {'Class': 'SMOTE', 'ROC AUC': 0.847578947368421}, {'Class': 'SMOTE-ENN', 'ROC AUC': 0.8438947368421051}, {'Class': 'SMOTE-TOMEK', 'ROC AUC': 0.8482105263157894}]\n"
          ]
        }
      ],
      "source": [
        "from imblearn.pipeline import Pipeline\n",
        "from imblearn.under_sampling import RandomUnderSampler\n",
        "from imblearn.under_sampling import TomekLinks\n",
        "from imblearn.under_sampling import EditedNearestNeighbours\n",
        "from imblearn.over_sampling import RandomOverSampler\n",
        "from imblearn.over_sampling import ADASYN\n",
        "from imblearn.over_sampling import SMOTE\n",
        "from imblearn.combine import SMOTEENN\n",
        "from imblearn.combine import SMOTETomek\n",
        "\n",
        "# Undersampling methods\n",
        "rd_under = RandomUnderSampler()\n",
        "tomek = TomekLinks()\n",
        "enn = EditedNearestNeighbours()\n",
        "\n",
        "# Oversampling methods\n",
        "rd_over = RandomOverSampler()\n",
        "ada = ADASYN()\n",
        "smt = SMOTE()\n",
        "\n",
        "# Combine data undersampling and oversampling\n",
        "smtenn = SMOTEENN()\n",
        "smttmk = SMOTETomek()\n",
        "\n",
        "# Algorithms\n",
        "algs = [rd_under,tomek,enn,\n",
        "        rd_over,ada,smt,\n",
        "        smtenn,smttmk]\n",
        "names = ['RandomUnder','TomekLinks','ENN',\n",
        "         'RandomOver','ADASYN','SMOTE',\n",
        "         'SMOTE-ENN','SMOTE-TOMEK']\n",
        "\n",
        "nth = 0\n",
        "\n",
        "for und in algs:\n",
        "    pipe = Pipeline([('fit',und), ('clf',model)])\n",
        "    pipe.fit(trainX, trainy)\n",
        "    yhat = pipe.predict(testX)\n",
        "    print(names[nth])\n",
        "    print(classification_report(testy,yhat))\n",
        "    df_results.append(\n",
        "        {\n",
        "            'Class':names[nth],\n",
        "            'ROC AUC':roc_auc_score(testy,yhat)\n",
        "        }\n",
        "    )\n",
        "    nth += 1\n",
        "\n",
        "print(df_results)"
      ]
    },
    {
      "attachments": {},
      "cell_type": "markdown",
      "metadata": {},
      "source": [
        "* Undersampling: mientras que el ENN y TomekLinks presentan un equilibrio entre la precisión y la sensibilidad, el RandomUndersampling tiene un valor alto para la sensibilidad y bajo para la precisión. El último de los tres es el que tiene mejor valor para el roc auc.\n",
        "* Oversampling: para todos ellos la precisión es baja y la sensibilidad es alta. Todos muestran un valor similar en roc auc.\n",
        "* Combinación de undersampling y oversampling: devuelven valores similares tanto para la precisión como para la sensibilidad. El valor roc auc es el mismo debido a que ambos aplican smote antes de la técnicas de undersampling, el cual ya obtiene un valor muy alto."
      ]
    },
    {
      "attachments": {},
      "cell_type": "markdown",
      "metadata": {},
      "source": [
        "#### Cost-sensitive algorithms"
      ]
    },
    {
      "cell_type": "code",
      "execution_count": 20,
      "metadata": {},
      "outputs": [
        {
          "name": "stdout",
          "output_type": "stream",
          "text": [
            "Probabilidad > 0.50\n",
            "              precision    recall  f1-score   support\n",
            "\n",
            "           0       0.99      0.84      0.91      4750\n",
            "           1       0.22      0.86      0.35       250\n",
            "\n",
            "    accuracy                           0.84      5000\n",
            "   macro avg       0.61      0.85      0.63      5000\n",
            "weighted avg       0.95      0.84      0.88      5000\n",
            "\n",
            "Probabilidad > 0.75\n",
            "              precision    recall  f1-score   support\n",
            "\n",
            "           0       0.98      0.94      0.96      4750\n",
            "           1       0.38      0.67      0.49       250\n",
            "\n",
            "    accuracy                           0.93      5000\n",
            "   macro avg       0.68      0.81      0.72      5000\n",
            "weighted avg       0.95      0.93      0.94      5000\n",
            "\n",
            "Probabilidad > 0.85\n",
            "              precision    recall  f1-score   support\n",
            "\n",
            "           0       0.98      0.97      0.97      4750\n",
            "           1       0.49      0.54      0.52       250\n",
            "\n",
            "    accuracy                           0.95      5000\n",
            "   macro avg       0.73      0.76      0.75      5000\n",
            "weighted avg       0.95      0.95      0.95      5000\n",
            "\n",
            "[{'Class': 'Baseline', 'ROC AUC': 0.6589473684210527}, {'Class': 'RandomUnder', 'ROC AUC': 0.8418947368421053}, {'Class': 'TomekLinks', 'ROC AUC': 0.6677894736842104}, {'Class': 'ENN', 'ROC AUC': 0.7497894736842106}, {'Class': 'RandomOver', 'ROC AUC': 0.8477894736842105}, {'Class': 'ADASYN', 'ROC AUC': 0.8402105263157894}, {'Class': 'SMOTE', 'ROC AUC': 0.847578947368421}, {'Class': 'SMOTE-ENN', 'ROC AUC': 0.8438947368421051}, {'Class': 'SMOTE-TOMEK', 'ROC AUC': 0.8482105263157894}, {'Class': 0.5, 'ROC AUC': 0.8477894736842105}, {'Class': 0.75, 'ROC AUC': 0.8074736842105265}, {'Class': 0.85, 'ROC AUC': 0.7572631578947369}]\n"
          ]
        }
      ],
      "source": [
        "# Adjust threshold\n",
        "\n",
        "model = LogisticRegression(solver='liblinear', class_weight='balanced')\n",
        "# fit model\n",
        "model.fit(trainX, trainy)\n",
        "# predict on test set\n",
        "probs = [0.5, 0.75, 0.85]\n",
        "for pr in probs:\n",
        "    yhat = model.predict_proba(testX)[:, 1] > pr\n",
        "    print(\"Probabilidad > %.2f\" % pr)\n",
        "    print(classification_report(testy,yhat))\n",
        "    df_results.append(\n",
        "        {\n",
        "            'Class':pr,\n",
        "            'ROC AUC':roc_auc_score(testy,yhat)\n",
        "        }\n",
        "    )\n",
        "\n",
        "print(df_results)"
      ]
    },
    {
      "attachments": {},
      "cell_type": "markdown",
      "metadata": {},
      "source": [
        "Conforme se aumenta el threshold aumenta la precisión y baja la sensibilidad, empeorando la tasa de acierto final en el roc auc."
      ]
    },
    {
      "attachments": {},
      "cell_type": "markdown",
      "metadata": {},
      "source": [
        "#### Ensembles"
      ]
    },
    {
      "cell_type": "code",
      "execution_count": 21,
      "metadata": {},
      "outputs": [
        {
          "name": "stdout",
          "output_type": "stream",
          "text": [
            "BalancedBagging\n",
            "              precision    recall  f1-score   support\n",
            "\n",
            "           0       0.99      0.83      0.91      4750\n",
            "           1       0.21      0.86      0.34       250\n",
            "\n",
            "    accuracy                           0.83      5000\n",
            "   macro avg       0.60      0.84      0.62      5000\n",
            "weighted avg       0.95      0.83      0.88      5000\n",
            "\n",
            "RUSBoost\n",
            "              precision    recall  f1-score   support\n",
            "\n",
            "           0       0.99      0.83      0.91      4750\n",
            "           1       0.21      0.85      0.34       250\n",
            "\n",
            "    accuracy                           0.83      5000\n",
            "   macro avg       0.60      0.84      0.62      5000\n",
            "weighted avg       0.95      0.83      0.88      5000\n",
            "\n",
            "[{'Class': 'Baseline', 'ROC AUC': 0.6589473684210527}, {'Class': 'RandomUnder', 'ROC AUC': 0.8418947368421053}, {'Class': 'TomekLinks', 'ROC AUC': 0.6677894736842104}, {'Class': 'ENN', 'ROC AUC': 0.7497894736842106}, {'Class': 'RandomOver', 'ROC AUC': 0.8477894736842105}, {'Class': 'ADASYN', 'ROC AUC': 0.8402105263157894}, {'Class': 'SMOTE', 'ROC AUC': 0.847578947368421}, {'Class': 'SMOTE-ENN', 'ROC AUC': 0.8438947368421051}, {'Class': 'SMOTE-TOMEK', 'ROC AUC': 0.8482105263157894}, {'Class': 0.5, 'ROC AUC': 0.8477894736842105}, {'Class': 0.75, 'ROC AUC': 0.8074736842105265}, {'Class': 0.85, 'ROC AUC': 0.7572631578947369}, {'Class': 'BalancedBagging', 'ROC AUC': 0.8445263157894736}, {'Class': 'RUSBoost', 'ROC AUC': 0.8408421052631578}]\n"
          ]
        }
      ],
      "source": [
        "from imblearn.ensemble import BalancedBaggingClassifier\n",
        "from imblearn.ensemble import RUSBoostClassifier\n",
        "\n",
        "model = LogisticRegression(solver='liblinear')\n",
        "rf = BalancedBaggingClassifier(base_estimator=model)\n",
        "rus = RUSBoostClassifier(base_estimator=model)\n",
        "algs = [rf,rus]\n",
        "names = ['BalancedBagging','RUSBoost']\n",
        "nth = 0\n",
        "\n",
        "for und in algs:\n",
        "    pipe = und\n",
        "    pipe.fit(trainX, trainy)\n",
        "    yhat = pipe.predict(testX)\n",
        "    print(names[nth])\n",
        "    print(classification_report(testy,yhat))\n",
        "    df_results.append(\n",
        "        {\n",
        "            'Class':names[nth],\n",
        "            'ROC AUC':roc_auc_score(testy,yhat)\n",
        "        }\n",
        "    )\n",
        "    nth += 1\n",
        "\n",
        "print(df_results)"
      ]
    },
    {
      "attachments": {},
      "cell_type": "markdown",
      "metadata": {},
      "source": [
        "Tanto el BalancedBagging (basado en árboles de decisión) como el RUSBoost (basado en AdaBoost) muestran valores muy parecidos tanto para la precisión como para la sensibilidad. Para el roc auc, el BalancedBagging obtiene una pequeña mejora (~ 0.0001)."
      ]
    },
    {
      "attachments": {},
      "cell_type": "markdown",
      "metadata": {},
      "source": [
        "#### Comparison of algorithms"
      ]
    },
    {
      "cell_type": "code",
      "execution_count": 22,
      "metadata": {},
      "outputs": [
        {
          "data": {
            "text/html": [
              "<div>\n",
              "<style scoped>\n",
              "    .dataframe tbody tr th:only-of-type {\n",
              "        vertical-align: middle;\n",
              "    }\n",
              "\n",
              "    .dataframe tbody tr th {\n",
              "        vertical-align: top;\n",
              "    }\n",
              "\n",
              "    .dataframe thead th {\n",
              "        text-align: right;\n",
              "    }\n",
              "</style>\n",
              "<table border=\"1\" class=\"dataframe\">\n",
              "  <thead>\n",
              "    <tr style=\"text-align: right;\">\n",
              "      <th></th>\n",
              "      <th>Class</th>\n",
              "      <th>ROC AUC</th>\n",
              "    </tr>\n",
              "  </thead>\n",
              "  <tbody>\n",
              "    <tr>\n",
              "      <th>8</th>\n",
              "      <td>SMOTE-TOMEK</td>\n",
              "      <td>0.848211</td>\n",
              "    </tr>\n",
              "    <tr>\n",
              "      <th>4</th>\n",
              "      <td>RandomOver</td>\n",
              "      <td>0.847789</td>\n",
              "    </tr>\n",
              "    <tr>\n",
              "      <th>9</th>\n",
              "      <td>0.5</td>\n",
              "      <td>0.847789</td>\n",
              "    </tr>\n",
              "    <tr>\n",
              "      <th>6</th>\n",
              "      <td>SMOTE</td>\n",
              "      <td>0.847579</td>\n",
              "    </tr>\n",
              "    <tr>\n",
              "      <th>12</th>\n",
              "      <td>BalancedBagging</td>\n",
              "      <td>0.844526</td>\n",
              "    </tr>\n",
              "    <tr>\n",
              "      <th>7</th>\n",
              "      <td>SMOTE-ENN</td>\n",
              "      <td>0.843895</td>\n",
              "    </tr>\n",
              "    <tr>\n",
              "      <th>1</th>\n",
              "      <td>RandomUnder</td>\n",
              "      <td>0.841895</td>\n",
              "    </tr>\n",
              "    <tr>\n",
              "      <th>13</th>\n",
              "      <td>RUSBoost</td>\n",
              "      <td>0.840842</td>\n",
              "    </tr>\n",
              "    <tr>\n",
              "      <th>5</th>\n",
              "      <td>ADASYN</td>\n",
              "      <td>0.840211</td>\n",
              "    </tr>\n",
              "    <tr>\n",
              "      <th>10</th>\n",
              "      <td>0.75</td>\n",
              "      <td>0.807474</td>\n",
              "    </tr>\n",
              "    <tr>\n",
              "      <th>11</th>\n",
              "      <td>0.85</td>\n",
              "      <td>0.757263</td>\n",
              "    </tr>\n",
              "    <tr>\n",
              "      <th>3</th>\n",
              "      <td>ENN</td>\n",
              "      <td>0.749789</td>\n",
              "    </tr>\n",
              "    <tr>\n",
              "      <th>2</th>\n",
              "      <td>TomekLinks</td>\n",
              "      <td>0.667789</td>\n",
              "    </tr>\n",
              "    <tr>\n",
              "      <th>0</th>\n",
              "      <td>Baseline</td>\n",
              "      <td>0.658947</td>\n",
              "    </tr>\n",
              "  </tbody>\n",
              "</table>\n",
              "</div>"
            ],
            "text/plain": [
              "              Class   ROC AUC\n",
              "8       SMOTE-TOMEK  0.848211\n",
              "4        RandomOver  0.847789\n",
              "9               0.5  0.847789\n",
              "6             SMOTE  0.847579\n",
              "12  BalancedBagging  0.844526\n",
              "7         SMOTE-ENN  0.843895\n",
              "1       RandomUnder  0.841895\n",
              "13         RUSBoost  0.840842\n",
              "5            ADASYN  0.840211\n",
              "10             0.75  0.807474\n",
              "11             0.85  0.757263\n",
              "3               ENN  0.749789\n",
              "2        TomekLinks  0.667789\n",
              "0          Baseline  0.658947"
            ]
          },
          "metadata": {},
          "output_type": "display_data"
        },
        {
          "data": {
            "image/png": "[encoded data removed]",
            "text/plain": [
              "<Figure size 1080x360 with 1 Axes>"
            ]
          },
          "metadata": {
            "needs_background": "light"
          },
          "output_type": "display_data"
        }
      ],
      "source": [
        "df_results = pd.DataFrame(df_results)\n",
        "df_results.sort_values(by='ROC AUC', ascending=False, inplace=True)\n",
        "display(df_results)\n",
        "pyplot.figure(figsize=(15,5))\n",
        "\n",
        "ax = sns.barplot(data=df_results, x='Class', y='ROC AUC')\n",
        "labels=ax.get_xticklabels()\n",
        "ax.set_xticklabels(labels=labels,rotation=90)\n",
        "ax.set_ylim(0.60,0.9)\n",
        "pyplot.show()"
      ]
    },
    {
      "attachments": {},
      "cell_type": "markdown",
      "metadata": {},
      "source": [
        "Para el estudio entre los diferentes algoritmos se elige el área debajo de la curva (i.d. roc auc) porque es un buen estadístico para comparar modelos debido a su similitud con el test de Wilcoxon. \n",
        "\n",
        "Los mejores valores obtenidos para este estadístico los obtienen los métodos ensemble, seguidos de los métodos combinatorios y los métodos basados en oversampling con una diferencia leve. El método de random undersampling está entre los mejores candidatos aunque no es un buen reflejo de los algoritmos de undersampling debido a la componente de azar que posee. Para los métodos basados en cost-sensitive vemos que solo el threshold menor a 0.5 es el que obtiene un valor similar a los mejores algoritmos. Los algoritmos basados en undersampling no mejoran de forma significativa respecto al algoritmo base."
      ]
    },
    {
      "cell_type": "markdown",
      "metadata": {
        "id": "y-J5VXTOreX2"
      },
      "source": [
        "### 2. Case study on imbalanced classification\n",
        "You must select a problem between these two in order to carry out a proper study:\n",
        "- Credit fraud classification (w. PCA transformed variables): https://www.kaggle.com/datasets/mlg-ulb/creditcardfraud \n",
        "- Fetal health clasification (classes 2 and 3 must be joined for binary classifcation): https://www.kaggle.com/datasets/andrewmvd/fetal-health-classification \n",
        "\n",
        "The first step is obviously to carry out a global EDA to know the characteristics of the problem. To do so, you must follow the recommendations made in previous subjects of the Master. \n",
        "\n",
        "Next, you must decide which performance metric you want to optimise. The decision depends on the nature of the problem, so that you must justify which one is better suited for it. \n",
        "\n",
        "Then, select a few classification methods in order to have several paradigms over the same problem. \n",
        "\n",
        "Finally, you must apply different techniques for addressing the class imbalance. The previous study (part 1) might provided you a clue on which ones are preferable for the task. \n",
        "\n",
        "Do not forget to describe all your steps and to write down a proper analysis of the results you are obtaining, which may lead you to take the decision on which methodology is the one finally selected to solve the problem. \n"
      ]
    },
    {
      "attachments": {},
      "cell_type": "markdown",
      "metadata": {},
      "source": [
        "En la página de Kaggle se puede ver la siguiente recomendación: Given the class imbalance ratio, we recommend measuring the accuracy using the Area Under the Precision-Recall Curve (AUPRC). Confusion matrix accuracy is not meaningful for unbalanced classification.\n",
        "\n",
        "Por tanto, usaremos la métrica AUPRC como en el caso del ejercicio anterior."
      ]
    },
    {
      "cell_type": "code",
      "execution_count": 23,
      "metadata": {
        "id": "vZ0CfFykr0Rq"
      },
      "outputs": [
        {
          "name": "stdout",
          "output_type": "stream",
          "text": [
            "<class 'pandas.core.frame.DataFrame'>\n",
            "RangeIndex: 284807 entries, 0 to 284806\n",
            "Data columns (total 31 columns):\n",
            " #   Column  Non-Null Count   Dtype  \n",
            "---  ------  --------------   -----  \n",
            " 0   Time    284807 non-null  float64\n",
            " 1   V1      284807 non-null  float64\n",
            " 2   V2      284807 non-null  float64\n",
            " 3   V3      284807 non-null  float64\n",
            " 4   V4      284807 non-null  float64\n",
            " 5   V5      284807 non-null  float64\n",
            " 6   V6      284807 non-null  float64\n",
            " 7   V7      284807 non-null  float64\n",
            " 8   V8      284807 non-null  float64\n",
            " 9   V9      284807 non-null  float64\n",
            " 10  V10     284807 non-null  float64\n",
            " 11  V11     284807 non-null  float64\n",
            " 12  V12     284807 non-null  float64\n",
            " 13  V13     284807 non-null  float64\n",
            " 14  V14     284807 non-null  float64\n",
            " 15  V15     284807 non-null  float64\n",
            " 16  V16     284807 non-null  float64\n",
            " 17  V17     284807 non-null  float64\n",
            " 18  V18     284807 non-null  float64\n",
            " 19  V19     284807 non-null  float64\n",
            " 20  V20     284807 non-null  float64\n",
            " 21  V21     284807 non-null  float64\n",
            " 22  V22     284807 non-null  float64\n",
            " 23  V23     284807 non-null  float64\n",
            " 24  V24     284807 non-null  float64\n",
            " 25  V25     284807 non-null  float64\n",
            " 26  V26     284807 non-null  float64\n",
            " 27  V27     284807 non-null  float64\n",
            " 28  V28     284807 non-null  float64\n",
            " 29  Amount  284807 non-null  float64\n",
            " 30  Class   284807 non-null  int64  \n",
            "dtypes: float64(30), int64(1)\n",
            "memory usage: 67.4 MB\n"
          ]
        }
      ],
      "source": [
        "import numpy as np\n",
        "credit = pd.read_csv('creditcard.csv', header=0)\n",
        "credit.info(show_counts=True)"
      ]
    },
    {
      "attachments": {},
      "cell_type": "markdown",
      "metadata": {},
      "source": [
        "Este conjunto de datos tiene 29 variables transformadas por PCA y la etiqueta de clase. También podemos ver que no tiene valores perdidos.\n",
        "\n",
        "Representamos el conjunto de forma gráfica para ver el solapamiento de las clases."
      ]
    },
    {
      "cell_type": "code",
      "execution_count": 24,
      "metadata": {},
      "outputs": [
        {
          "name": "stdout",
          "output_type": "stream",
          "text": [
            "Counter({0: 284315, 1: 492})\n"
          ]
        }
      ],
      "source": [
        "X = credit.drop(columns='Class')\n",
        "y = credit['Class']\n",
        "counter = Counter(y)\n",
        "print(counter)"
      ]
    },
    {
      "cell_type": "code",
      "execution_count": 25,
      "metadata": {},
      "outputs": [
        {
          "name": "stdout",
          "output_type": "stream",
          "text": [
            "Non frauds: 0.9982725143693799, Frauds: 0.001727485630620034\n"
          ]
        }
      ],
      "source": [
        "import functools\n",
        "sum_count = functools.reduce(lambda ac,k: ac+counter[k], counter, 0)\n",
        "print(f\"Non frauds: {counter[0]/sum_count}, Frauds: {counter[1]/sum_count}\")"
      ]
    },
    {
      "cell_type": "code",
      "execution_count": 26,
      "metadata": {},
      "outputs": [
        {
          "data": {
            "image/png": "[encoded data removed]",
            "text/plain": [
              "<Figure size 432x288 with 1 Axes>"
            ]
          },
          "metadata": {
            "needs_background": "light"
          },
          "output_type": "display_data"
        }
      ],
      "source": [
        "# scatter plot of examples by class label\n",
        "for label, _ in counter.items():\n",
        "\trow_ix = where(y == label)[0]\n",
        "\tpyplot.scatter(X.iloc[row_ix, 0], X.iloc[row_ix, 1], label=str(label))\n",
        "pyplot.legend()\n",
        "pyplot.show()"
      ]
    },
    {
      "attachments": {},
      "cell_type": "markdown",
      "metadata": {},
      "source": [
        "La primera aproximación es la eliminación de outliers de la clase negativa."
      ]
    },
    {
      "cell_type": "code",
      "execution_count": 27,
      "metadata": {},
      "outputs": [
        {
          "data": {
            "text/html": [
              "<style>#sk-container-id-1 {color: black;background-color: white;}#sk-container-id-1 pre{padding: 0;}#sk-container-id-1 div.sk-toggleable {background-color: white;}#sk-container-id-1 label.sk-toggleable__label {cursor: pointer;display: block;width: 100%;margin-bottom: 0;padding: 0.3em;box-sizing: border-box;text-align: center;}#sk-container-id-1 label.sk-toggleable__label-arrow:before {content: \"▸\";float: left;margin-right: 0.25em;color: #696969;}#sk-container-id-1 label.sk-toggleable__label-arrow:hover:before {color: black;}#sk-container-id-1 div.sk-estimator:hover label.sk-toggleable__label-arrow:before {color: black;}#sk-container-id-1 div.sk-toggleable__content {max-height: 0;max-width: 0;overflow: hidden;text-align: left;background-color: #f0f8ff;}#sk-container-id-1 div.sk-toggleable__content pre {margin: 0.2em;color: black;border-radius: 0.25em;background-color: #f0f8ff;}#sk-container-id-1 input.sk-toggleable__control:checked~div.sk-toggleable__content {max-height: 200px;max-width: 100%;overflow: auto;}#sk-container-id-1 input.sk-toggleable__control:checked~label.sk-toggleable__label-arrow:before {content: \"▾\";}#sk-container-id-1 div.sk-estimator input.sk-toggleable__control:checked~label.sk-toggleable__label {background-color: #d4ebff;}#sk-container-id-1 div.sk-label input.sk-toggleable__control:checked~label.sk-toggleable__label {background-color: #d4ebff;}#sk-container-id-1 input.sk-hidden--visually {border: 0;clip: rect(1px 1px 1px 1px);clip: rect(1px, 1px, 1px, 1px);height: 1px;margin: -1px;overflow: hidden;padding: 0;position: absolute;width: 1px;}#sk-container-id-1 div.sk-estimator {font-family: monospace;background-color: #f0f8ff;border: 1px dotted black;border-radius: 0.25em;box-sizing: border-box;margin-bottom: 0.5em;}#sk-container-id-1 div.sk-estimator:hover {background-color: #d4ebff;}#sk-container-id-1 div.sk-parallel-item::after {content: \"\";width: 100%;border-bottom: 1px solid gray;flex-grow: 1;}#sk-container-id-1 div.sk-label:hover label.sk-toggleable__label {background-color: #d4ebff;}#sk-container-id-1 div.sk-serial::before {content: \"\";position: absolute;border-left: 1px solid gray;box-sizing: border-box;top: 0;bottom: 0;left: 50%;z-index: 0;}#sk-container-id-1 div.sk-serial {display: flex;flex-direction: column;align-items: center;background-color: white;padding-right: 0.2em;padding-left: 0.2em;position: relative;}#sk-container-id-1 div.sk-item {position: relative;z-index: 1;}#sk-container-id-1 div.sk-parallel {display: flex;align-items: stretch;justify-content: center;background-color: white;position: relative;}#sk-container-id-1 div.sk-item::before, #sk-container-id-1 div.sk-parallel-item::before {content: \"\";position: absolute;border-left: 1px solid gray;box-sizing: border-box;top: 0;bottom: 0;left: 50%;z-index: -1;}#sk-container-id-1 div.sk-parallel-item {display: flex;flex-direction: column;z-index: 1;position: relative;background-color: white;}#sk-container-id-1 div.sk-parallel-item:first-child::after {align-self: flex-end;width: 50%;}#sk-container-id-1 div.sk-parallel-item:last-child::after {align-self: flex-start;width: 50%;}#sk-container-id-1 div.sk-parallel-item:only-child::after {width: 0;}#sk-container-id-1 div.sk-dashed-wrapped {border: 1px dashed gray;margin: 0 0.4em 0.5em 0.4em;box-sizing: border-box;padding-bottom: 0.4em;background-color: white;}#sk-container-id-1 div.sk-label label {font-family: monospace;font-weight: bold;display: inline-block;line-height: 1.2em;}#sk-container-id-1 div.sk-label-container {text-align: center;}#sk-container-id-1 div.sk-container {/* jupyter's `normalize.less` sets `[hidden] { display: none; }` but bootstrap.min.css set `[hidden] { display: none !important; }` so we also need the `!important` here to be able to override the default hidden behavior on the sphinx rendered scikit-learn.org. See: https://github.com/scikit-learn/scikit-learn/issues/21755 */display: inline-block !important;position: relative;}#sk-container-id-1 div.sk-text-repr-fallback {display: none;}</style><div id=\"sk-container-id-1\" class=\"sk-top-container\"><div class=\"sk-text-repr-fallback\"><pre>IsolationForest(n_estimators=300)</pre><b>In a Jupyter environment, please rerun this cell to show the HTML representation or trust the notebook. <br />On GitHub, the HTML representation is unable to render, please try loading this page with nbviewer.org.</b></div><div class=\"sk-container\" hidden><div class=\"sk-item\"><div class=\"sk-estimator sk-toggleable\"><input class=\"sk-toggleable__control sk-hidden--visually\" id=\"sk-estimator-id-1\" type=\"checkbox\" checked><label for=\"sk-estimator-id-1\" class=\"sk-toggleable__label sk-toggleable__label-arrow\">IsolationForest</label><div class=\"sk-toggleable__content\"><pre>IsolationForest(n_estimators=300)</pre></div></div></div></div></div>"
            ],
            "text/plain": [
              "IsolationForest(n_estimators=300)"
            ]
          },
          "execution_count": 27,
          "metadata": {},
          "output_type": "execute_result"
        }
      ],
      "source": [
        "from sklearn.ensemble import IsolationForest\n",
        "out_det = credit.loc[credit['Class'] == 0]\n",
        "out_det = out_det.drop(columns='Class')\n",
        "model=IsolationForest(n_estimators=300, max_samples='auto', contamination='auto', max_features=1.0)\n",
        "model.fit(out_det)"
      ]
    },
    {
      "attachments": {},
      "cell_type": "markdown",
      "metadata": {},
      "source": [
        "El valor -1 para la columna anomaly indica la presencia de una anomalía, mientras que el valor 1 representa un dato normal. "
      ]
    },
    {
      "cell_type": "code",
      "execution_count": 28,
      "metadata": {},
      "outputs": [
        {
          "data": {
            "text/html": [
              "<div>\n",
              "<style scoped>\n",
              "    .dataframe tbody tr th:only-of-type {\n",
              "        vertical-align: middle;\n",
              "    }\n",
              "\n",
              "    .dataframe tbody tr th {\n",
              "        vertical-align: top;\n",
              "    }\n",
              "\n",
              "    .dataframe thead th {\n",
              "        text-align: right;\n",
              "    }\n",
              "</style>\n",
              "<table border=\"1\" class=\"dataframe\">\n",
              "  <thead>\n",
              "    <tr style=\"text-align: right;\">\n",
              "      <th></th>\n",
              "      <th>Time</th>\n",
              "      <th>V1</th>\n",
              "      <th>V2</th>\n",
              "      <th>V3</th>\n",
              "      <th>V4</th>\n",
              "      <th>V5</th>\n",
              "      <th>V6</th>\n",
              "      <th>V7</th>\n",
              "      <th>V8</th>\n",
              "      <th>V9</th>\n",
              "      <th>...</th>\n",
              "      <th>V22</th>\n",
              "      <th>V23</th>\n",
              "      <th>V24</th>\n",
              "      <th>V25</th>\n",
              "      <th>V26</th>\n",
              "      <th>V27</th>\n",
              "      <th>V28</th>\n",
              "      <th>Amount</th>\n",
              "      <th>scores</th>\n",
              "      <th>anomaly</th>\n",
              "    </tr>\n",
              "  </thead>\n",
              "  <tbody>\n",
              "    <tr>\n",
              "      <th>0</th>\n",
              "      <td>0.0</td>\n",
              "      <td>-1.359807</td>\n",
              "      <td>-0.072781</td>\n",
              "      <td>2.536347</td>\n",
              "      <td>1.378155</td>\n",
              "      <td>-0.338321</td>\n",
              "      <td>0.462388</td>\n",
              "      <td>0.239599</td>\n",
              "      <td>0.098698</td>\n",
              "      <td>0.363787</td>\n",
              "      <td>...</td>\n",
              "      <td>0.277838</td>\n",
              "      <td>-0.110474</td>\n",
              "      <td>0.066928</td>\n",
              "      <td>0.128539</td>\n",
              "      <td>-0.189115</td>\n",
              "      <td>0.133558</td>\n",
              "      <td>-0.021053</td>\n",
              "      <td>149.62</td>\n",
              "      <td>0.107615</td>\n",
              "      <td>1</td>\n",
              "    </tr>\n",
              "    <tr>\n",
              "      <th>1</th>\n",
              "      <td>0.0</td>\n",
              "      <td>1.191857</td>\n",
              "      <td>0.266151</td>\n",
              "      <td>0.166480</td>\n",
              "      <td>0.448154</td>\n",
              "      <td>0.060018</td>\n",
              "      <td>-0.082361</td>\n",
              "      <td>-0.078803</td>\n",
              "      <td>0.085102</td>\n",
              "      <td>-0.255425</td>\n",
              "      <td>...</td>\n",
              "      <td>-0.638672</td>\n",
              "      <td>0.101288</td>\n",
              "      <td>-0.339846</td>\n",
              "      <td>0.167170</td>\n",
              "      <td>0.125895</td>\n",
              "      <td>-0.008983</td>\n",
              "      <td>0.014724</td>\n",
              "      <td>2.69</td>\n",
              "      <td>0.127819</td>\n",
              "      <td>1</td>\n",
              "    </tr>\n",
              "    <tr>\n",
              "      <th>2</th>\n",
              "      <td>1.0</td>\n",
              "      <td>-1.358354</td>\n",
              "      <td>-1.340163</td>\n",
              "      <td>1.773209</td>\n",
              "      <td>0.379780</td>\n",
              "      <td>-0.503198</td>\n",
              "      <td>1.800499</td>\n",
              "      <td>0.791461</td>\n",
              "      <td>0.247676</td>\n",
              "      <td>-1.514654</td>\n",
              "      <td>...</td>\n",
              "      <td>0.771679</td>\n",
              "      <td>0.909412</td>\n",
              "      <td>-0.689281</td>\n",
              "      <td>-0.327642</td>\n",
              "      <td>-0.139097</td>\n",
              "      <td>-0.055353</td>\n",
              "      <td>-0.059752</td>\n",
              "      <td>378.66</td>\n",
              "      <td>0.028871</td>\n",
              "      <td>1</td>\n",
              "    </tr>\n",
              "    <tr>\n",
              "      <th>3</th>\n",
              "      <td>1.0</td>\n",
              "      <td>-0.966272</td>\n",
              "      <td>-0.185226</td>\n",
              "      <td>1.792993</td>\n",
              "      <td>-0.863291</td>\n",
              "      <td>-0.010309</td>\n",
              "      <td>1.247203</td>\n",
              "      <td>0.237609</td>\n",
              "      <td>0.377436</td>\n",
              "      <td>-1.387024</td>\n",
              "      <td>...</td>\n",
              "      <td>0.005274</td>\n",
              "      <td>-0.190321</td>\n",
              "      <td>-1.175575</td>\n",
              "      <td>0.647376</td>\n",
              "      <td>-0.221929</td>\n",
              "      <td>0.062723</td>\n",
              "      <td>0.061458</td>\n",
              "      <td>123.50</td>\n",
              "      <td>0.090370</td>\n",
              "      <td>1</td>\n",
              "    </tr>\n",
              "    <tr>\n",
              "      <th>4</th>\n",
              "      <td>2.0</td>\n",
              "      <td>-1.158233</td>\n",
              "      <td>0.877737</td>\n",
              "      <td>1.548718</td>\n",
              "      <td>0.403034</td>\n",
              "      <td>-0.407193</td>\n",
              "      <td>0.095921</td>\n",
              "      <td>0.592941</td>\n",
              "      <td>-0.270533</td>\n",
              "      <td>0.817739</td>\n",
              "      <td>...</td>\n",
              "      <td>0.798278</td>\n",
              "      <td>-0.137458</td>\n",
              "      <td>0.141267</td>\n",
              "      <td>-0.206010</td>\n",
              "      <td>0.502292</td>\n",
              "      <td>0.219422</td>\n",
              "      <td>0.215153</td>\n",
              "      <td>69.99</td>\n",
              "      <td>0.107253</td>\n",
              "      <td>1</td>\n",
              "    </tr>\n",
              "    <tr>\n",
              "      <th>5</th>\n",
              "      <td>2.0</td>\n",
              "      <td>-0.425966</td>\n",
              "      <td>0.960523</td>\n",
              "      <td>1.141109</td>\n",
              "      <td>-0.168252</td>\n",
              "      <td>0.420987</td>\n",
              "      <td>-0.029728</td>\n",
              "      <td>0.476201</td>\n",
              "      <td>0.260314</td>\n",
              "      <td>-0.568671</td>\n",
              "      <td>...</td>\n",
              "      <td>-0.559825</td>\n",
              "      <td>-0.026398</td>\n",
              "      <td>-0.371427</td>\n",
              "      <td>-0.232794</td>\n",
              "      <td>0.105915</td>\n",
              "      <td>0.253844</td>\n",
              "      <td>0.081080</td>\n",
              "      <td>3.67</td>\n",
              "      <td>0.127821</td>\n",
              "      <td>1</td>\n",
              "    </tr>\n",
              "    <tr>\n",
              "      <th>6</th>\n",
              "      <td>4.0</td>\n",
              "      <td>1.229658</td>\n",
              "      <td>0.141004</td>\n",
              "      <td>0.045371</td>\n",
              "      <td>1.202613</td>\n",
              "      <td>0.191881</td>\n",
              "      <td>0.272708</td>\n",
              "      <td>-0.005159</td>\n",
              "      <td>0.081213</td>\n",
              "      <td>0.464960</td>\n",
              "      <td>...</td>\n",
              "      <td>-0.270710</td>\n",
              "      <td>-0.154104</td>\n",
              "      <td>-0.780055</td>\n",
              "      <td>0.750137</td>\n",
              "      <td>-0.257237</td>\n",
              "      <td>0.034507</td>\n",
              "      <td>0.005168</td>\n",
              "      <td>4.99</td>\n",
              "      <td>0.115762</td>\n",
              "      <td>1</td>\n",
              "    </tr>\n",
              "    <tr>\n",
              "      <th>7</th>\n",
              "      <td>7.0</td>\n",
              "      <td>-0.644269</td>\n",
              "      <td>1.417964</td>\n",
              "      <td>1.074380</td>\n",
              "      <td>-0.492199</td>\n",
              "      <td>0.948934</td>\n",
              "      <td>0.428118</td>\n",
              "      <td>1.120631</td>\n",
              "      <td>-3.807864</td>\n",
              "      <td>0.615375</td>\n",
              "      <td>...</td>\n",
              "      <td>-1.015455</td>\n",
              "      <td>0.057504</td>\n",
              "      <td>-0.649709</td>\n",
              "      <td>-0.415267</td>\n",
              "      <td>-0.051634</td>\n",
              "      <td>-1.206921</td>\n",
              "      <td>-1.085339</td>\n",
              "      <td>40.80</td>\n",
              "      <td>0.022237</td>\n",
              "      <td>1</td>\n",
              "    </tr>\n",
              "    <tr>\n",
              "      <th>8</th>\n",
              "      <td>7.0</td>\n",
              "      <td>-0.894286</td>\n",
              "      <td>0.286157</td>\n",
              "      <td>-0.113192</td>\n",
              "      <td>-0.271526</td>\n",
              "      <td>2.669599</td>\n",
              "      <td>3.721818</td>\n",
              "      <td>0.370145</td>\n",
              "      <td>0.851084</td>\n",
              "      <td>-0.392048</td>\n",
              "      <td>...</td>\n",
              "      <td>-0.268092</td>\n",
              "      <td>-0.204233</td>\n",
              "      <td>1.011592</td>\n",
              "      <td>0.373205</td>\n",
              "      <td>-0.384157</td>\n",
              "      <td>0.011747</td>\n",
              "      <td>0.142404</td>\n",
              "      <td>93.20</td>\n",
              "      <td>0.093750</td>\n",
              "      <td>1</td>\n",
              "    </tr>\n",
              "    <tr>\n",
              "      <th>9</th>\n",
              "      <td>9.0</td>\n",
              "      <td>-0.338262</td>\n",
              "      <td>1.119593</td>\n",
              "      <td>1.044367</td>\n",
              "      <td>-0.222187</td>\n",
              "      <td>0.499361</td>\n",
              "      <td>-0.246761</td>\n",
              "      <td>0.651583</td>\n",
              "      <td>0.069539</td>\n",
              "      <td>-0.736727</td>\n",
              "      <td>...</td>\n",
              "      <td>-0.633753</td>\n",
              "      <td>-0.120794</td>\n",
              "      <td>-0.385050</td>\n",
              "      <td>-0.069733</td>\n",
              "      <td>0.094199</td>\n",
              "      <td>0.246219</td>\n",
              "      <td>0.083076</td>\n",
              "      <td>3.68</td>\n",
              "      <td>0.121279</td>\n",
              "      <td>1</td>\n",
              "    </tr>\n",
              "  </tbody>\n",
              "</table>\n",
              "<p>10 rows × 32 columns</p>\n",
              "</div>"
            ],
            "text/plain": [
              "   Time        V1        V2        V3        V4        V5        V6        V7  \\\n",
              "0   0.0 -1.359807 -0.072781  2.536347  1.378155 -0.338321  0.462388  0.239599   \n",
              "1   0.0  1.191857  0.266151  0.166480  0.448154  0.060018 -0.082361 -0.078803   \n",
              "2   1.0 -1.358354 -1.340163  1.773209  0.379780 -0.503198  1.800499  0.791461   \n",
              "3   1.0 -0.966272 -0.185226  1.792993 -0.863291 -0.010309  1.247203  0.237609   \n",
              "4   2.0 -1.158233  0.877737  1.548718  0.403034 -0.407193  0.095921  0.592941   \n",
              "5   2.0 -0.425966  0.960523  1.141109 -0.168252  0.420987 -0.029728  0.476201   \n",
              "6   4.0  1.229658  0.141004  0.045371  1.202613  0.191881  0.272708 -0.005159   \n",
              "7   7.0 -0.644269  1.417964  1.074380 -0.492199  0.948934  0.428118  1.120631   \n",
              "8   7.0 -0.894286  0.286157 -0.113192 -0.271526  2.669599  3.721818  0.370145   \n",
              "9   9.0 -0.338262  1.119593  1.044367 -0.222187  0.499361 -0.246761  0.651583   \n",
              "\n",
              "         V8        V9  ...       V22       V23       V24       V25       V26  \\\n",
              "0  0.098698  0.363787  ...  0.277838 -0.110474  0.066928  0.128539 -0.189115   \n",
              "1  0.085102 -0.255425  ... -0.638672  0.101288 -0.339846  0.167170  0.125895   \n",
              "2  0.247676 -1.514654  ...  0.771679  0.909412 -0.689281 -0.327642 -0.139097   \n",
              "3  0.377436 -1.387024  ...  0.005274 -0.190321 -1.175575  0.647376 -0.221929   \n",
              "4 -0.270533  0.817739  ...  0.798278 -0.137458  0.141267 -0.206010  0.502292   \n",
              "5  0.260314 -0.568671  ... -0.559825 -0.026398 -0.371427 -0.232794  0.105915   \n",
              "6  0.081213  0.464960  ... -0.270710 -0.154104 -0.780055  0.750137 -0.257237   \n",
              "7 -3.807864  0.615375  ... -1.015455  0.057504 -0.649709 -0.415267 -0.051634   \n",
              "8  0.851084 -0.392048  ... -0.268092 -0.204233  1.011592  0.373205 -0.384157   \n",
              "9  0.069539 -0.736727  ... -0.633753 -0.120794 -0.385050 -0.069733  0.094199   \n",
              "\n",
              "        V27       V28  Amount    scores  anomaly  \n",
              "0  0.133558 -0.021053  149.62  0.107615        1  \n",
              "1 -0.008983  0.014724    2.69  0.127819        1  \n",
              "2 -0.055353 -0.059752  378.66  0.028871        1  \n",
              "3  0.062723  0.061458  123.50  0.090370        1  \n",
              "4  0.219422  0.215153   69.99  0.107253        1  \n",
              "5  0.253844  0.081080    3.67  0.127821        1  \n",
              "6  0.034507  0.005168    4.99  0.115762        1  \n",
              "7 -1.206921 -1.085339   40.80  0.022237        1  \n",
              "8  0.011747  0.142404   93.20  0.093750        1  \n",
              "9  0.246219  0.083076    3.68  0.121279        1  \n",
              "\n",
              "[10 rows x 32 columns]"
            ]
          },
          "execution_count": 28,
          "metadata": {},
          "output_type": "execute_result"
        }
      ],
      "source": [
        "scores=model.decision_function(out_det)\n",
        "anomaly=model.predict(out_det)\n",
        "\n",
        "out_det['scores']=scores\n",
        "out_det['anomaly']=anomaly\n",
        "\n",
        "out_det.head(10)"
      ]
    },
    {
      "attachments": {},
      "cell_type": "markdown",
      "metadata": {},
      "source": [
        "Al eliminar los outliers, se eliminan menos del 4% de los elementos de la clase negativa."
      ]
    },
    {
      "cell_type": "code",
      "execution_count": 29,
      "metadata": {},
      "outputs": [
        {
          "name": "stdout",
          "output_type": "stream",
          "text": [
            "El número de anomalías es:11126\n",
            "El porcentaje de anomalias extraido es:0.03913265216397306\n"
          ]
        }
      ],
      "source": [
        "anomalias = out_det.loc[out_det['anomaly'] == -1]\n",
        "anomalias_idx = list(anomalias.index)\n",
        "print(f\"El número de anomalías es:{len(anomalias)}\")\n",
        "print(f\"El porcentaje de anomalias extraido es:{len(anomalias)/credit.loc[credit['Class'] == 0].shape[0]}\")"
      ]
    },
    {
      "attachments": {},
      "cell_type": "markdown",
      "metadata": {},
      "source": [
        "El siguiente paso es eliminar los outliers en el conjunto inicial"
      ]
    },
    {
      "cell_type": "code",
      "execution_count": 30,
      "metadata": {},
      "outputs": [],
      "source": [
        "credit_out = credit.drop(anomalias_idx, axis=0).reset_index(drop=True)"
      ]
    },
    {
      "attachments": {},
      "cell_type": "markdown",
      "metadata": {},
      "source": [
        "El conjunto generado tiene menos elementos para la clase negativa (después de eliminar los outliers) y conserva los elementos de las clase positiva."
      ]
    },
    {
      "cell_type": "code",
      "execution_count": 31,
      "metadata": {},
      "outputs": [
        {
          "name": "stdout",
          "output_type": "stream",
          "text": [
            "Counter({0: 273189, 1: 492})\n"
          ]
        }
      ],
      "source": [
        "X = credit_out.drop(columns='Class')\n",
        "y = credit_out['Class']\n",
        "counter = Counter(y)\n",
        "print(counter)"
      ]
    },
    {
      "attachments": {},
      "cell_type": "markdown",
      "metadata": {},
      "source": [
        "Volvemos a graficar la distribución de los puntos para ver la diferencia"
      ]
    },
    {
      "cell_type": "code",
      "execution_count": 32,
      "metadata": {},
      "outputs": [
        {
          "data": {
            "image/png": "[encoded data removed]",
            "text/plain": [
              "<Figure size 432x288 with 1 Axes>"
            ]
          },
          "metadata": {
            "needs_background": "light"
          },
          "output_type": "display_data"
        }
      ],
      "source": [
        "# scatter plot of examples by class label\n",
        "for label, _ in counter.items():\n",
        "\trow_ix = where(y == label)[0]\n",
        "\tpyplot.scatter(X.iloc[row_ix, 0], X.iloc[row_ix, 1], label=str(label))\n",
        "pyplot.legend()\n",
        "pyplot.show()"
      ]
    },
    {
      "attachments": {},
      "cell_type": "markdown",
      "metadata": {},
      "source": [
        "Como podemos ver se han eliminado gran parte de los elementos que estaban más separados del grupo principal."
      ]
    },
    {
      "cell_type": "markdown",
      "metadata": {},
      "source": [
        "#### Baseline"
      ]
    },
    {
      "cell_type": "code",
      "execution_count": 33,
      "metadata": {},
      "outputs": [],
      "source": [
        "df_results = []"
      ]
    },
    {
      "cell_type": "code",
      "execution_count": 34,
      "metadata": {},
      "outputs": [
        {
          "name": "stdout",
          "output_type": "stream",
          "text": [
            "              precision    recall  f1-score   support\n",
            "\n",
            "           0       1.00      1.00      1.00     81957\n",
            "           1       0.87      0.79      0.83       148\n",
            "\n",
            "    accuracy                           1.00     82105\n",
            "   macro avg       0.94      0.90      0.91     82105\n",
            "weighted avg       1.00      1.00      1.00     82105\n",
            "\n",
            "[{'Class': 'Baseline', 'ROC AUC': 0.8951665573476401}]\n"
          ]
        }
      ],
      "source": [
        "trainX, testX, trainy, testy = train_test_split(X, y, test_size=0.3, stratify=y)\n",
        "# define model\n",
        "model = LogisticRegression(solver='liblinear')\n",
        "# fit model\n",
        "model.fit(trainX, trainy)\n",
        "# predict on test set\n",
        "yhat = model.predict(testX)\n",
        "# evaluate predictions\n",
        "#print('ROC AUC: %.3f' % roc_auc_score(testy, yhat))\n",
        "print(classification_report(testy,yhat))\n",
        "df_results.append(\n",
        "    {\n",
        "        'Class':'Baseline',\n",
        "        'ROC AUC':roc_auc_score(testy,yhat)\n",
        "    }\n",
        ")\n",
        "\n",
        "print(df_results)"
      ]
    },
    {
      "cell_type": "markdown",
      "metadata": {},
      "source": [
        "#### Undersampling, oversampling and hybrid approaches"
      ]
    },
    {
      "cell_type": "code",
      "execution_count": 35,
      "metadata": {},
      "outputs": [
        {
          "name": "stdout",
          "output_type": "stream",
          "text": [
            "RandomUnder\n",
            "              precision    recall  f1-score   support\n",
            "\n",
            "           0       1.00      0.98      0.99     81957\n",
            "           1       0.07      0.92      0.13       148\n",
            "\n",
            "    accuracy                           0.98     82105\n",
            "   macro avg       0.53      0.95      0.56     82105\n",
            "weighted avg       1.00      0.98      0.99     82105\n",
            "\n",
            "TomekLinks\n",
            "              precision    recall  f1-score   support\n",
            "\n",
            "           0       1.00      1.00      1.00     81957\n",
            "           1       0.88      0.80      0.84       148\n",
            "\n",
            "    accuracy                           1.00     82105\n",
            "   macro avg       0.94      0.90      0.92     82105\n",
            "weighted avg       1.00      1.00      1.00     82105\n",
            "\n",
            "ENN\n",
            "              precision    recall  f1-score   support\n",
            "\n",
            "           0       1.00      1.00      1.00     81957\n",
            "           1       0.81      0.71      0.76       148\n",
            "\n",
            "    accuracy                           1.00     82105\n",
            "   macro avg       0.91      0.85      0.88     82105\n",
            "weighted avg       1.00      1.00      1.00     82105\n",
            "\n",
            "RandomOver\n",
            "              precision    recall  f1-score   support\n",
            "\n",
            "           0       1.00      0.98      0.99     81957\n",
            "           1       0.07      0.93      0.13       148\n",
            "\n",
            "    accuracy                           0.98     82105\n",
            "   macro avg       0.53      0.95      0.56     82105\n",
            "weighted avg       1.00      0.98      0.99     82105\n",
            "\n",
            "ADASYN\n",
            "              precision    recall  f1-score   support\n",
            "\n",
            "           0       1.00      0.99      0.99     81957\n",
            "           1       0.10      0.92      0.18       148\n",
            "\n",
            "    accuracy                           0.99     82105\n",
            "   macro avg       0.55      0.95      0.59     82105\n",
            "weighted avg       1.00      0.99      0.99     82105\n",
            "\n",
            "SMOTE\n",
            "              precision    recall  f1-score   support\n",
            "\n",
            "           0       1.00      0.99      0.99     81957\n",
            "           1       0.11      0.92      0.20       148\n",
            "\n",
            "    accuracy                           0.99     82105\n",
            "   macro avg       0.56      0.95      0.60     82105\n",
            "weighted avg       1.00      0.99      0.99     82105\n",
            "\n",
            "SMOTE-ENN\n",
            "              precision    recall  f1-score   support\n",
            "\n",
            "           0       1.00      0.99      0.99     81957\n",
            "           1       0.12      0.93      0.21       148\n",
            "\n",
            "    accuracy                           0.99     82105\n",
            "   macro avg       0.56      0.96      0.60     82105\n",
            "weighted avg       1.00      0.99      0.99     82105\n",
            "\n",
            "SMOTE-TOMEK\n",
            "              precision    recall  f1-score   support\n",
            "\n",
            "           0       1.00      0.98      0.99     81957\n",
            "           1       0.10      0.93      0.18       148\n",
            "\n",
            "    accuracy                           0.98     82105\n",
            "   macro avg       0.55      0.96      0.59     82105\n",
            "weighted avg       1.00      0.98      0.99     82105\n",
            "\n",
            "[{'Class': 'Baseline', 'ROC AUC': 0.8951665573476401}, {'Class': 'RandomUnder', 'ROC AUC': 0.9483133706567947}, {'Class': 'TomekLinks', 'ROC AUC': 0.9019294148645515}, {'Class': 'ENN', 'ROC AUC': 0.8545833114860166}, {'Class': 'RandomOver', 'ROC AUC': 0.9545515628004005}, {'Class': 'ADASYN', 'ROC AUC': 0.952120244993337}, {'Class': 'SMOTE', 'ROC AUC': 0.9529804521751518}, {'Class': 'SMOTE-ENN', 'ROC AUC': 0.9564320396753868}, {'Class': 'SMOTE-TOMEK', 'ROC AUC': 0.9552240891647531}]\n"
          ]
        }
      ],
      "source": [
        "from imblearn.pipeline import Pipeline\n",
        "from imblearn.under_sampling import RandomUnderSampler\n",
        "from imblearn.under_sampling import TomekLinks\n",
        "from imblearn.under_sampling import EditedNearestNeighbours\n",
        "from imblearn.over_sampling import RandomOverSampler\n",
        "from imblearn.over_sampling import ADASYN\n",
        "from imblearn.over_sampling import SMOTE\n",
        "from imblearn.combine import SMOTEENN\n",
        "from imblearn.combine import SMOTETomek\n",
        "\n",
        "# Undersampling methods\n",
        "rd_under = RandomUnderSampler(sampling_strategy='majority')\n",
        "tomek = TomekLinks(sampling_strategy='majority', n_jobs=-1)\n",
        "enn = EditedNearestNeighbours(sampling_strategy='majority', n_jobs=-1)\n",
        "\n",
        "# Oversampling methods\n",
        "rd_over = RandomOverSampler(sampling_strategy='minority')\n",
        "ada = ADASYN(sampling_strategy='minority', n_jobs=-1)\n",
        "smt = SMOTE(sampling_strategy='minority', n_jobs=-1)\n",
        "\n",
        "# Combine data undersampling and oversampling\n",
        "smtenn = SMOTEENN(sampling_strategy='minority', n_jobs=-1)\n",
        "smttmk = SMOTETomek(sampling_strategy='minority', n_jobs=-1)\n",
        "\n",
        "# Algorithms\n",
        "algs = [rd_under,tomek,enn,\n",
        "        rd_over,ada,smt,\n",
        "        smtenn,smttmk]\n",
        "names = ['RandomUnder','TomekLinks','ENN',\n",
        "         'RandomOver','ADASYN','SMOTE',\n",
        "         'SMOTE-ENN','SMOTE-TOMEK']\n",
        "\n",
        "nth = 0\n",
        "\n",
        "for und in algs:\n",
        "    pipe = Pipeline([('fit',und), ('clf',model)])\n",
        "    pipe.fit(trainX, trainy)\n",
        "    yhat = pipe.predict(testX)\n",
        "    print(names[nth])\n",
        "    print(classification_report(testy,yhat))\n",
        "    df_results.append(\n",
        "        {\n",
        "            'Class':names[nth],\n",
        "            'ROC AUC':roc_auc_score(testy,yhat)\n",
        "        }\n",
        "    )\n",
        "    nth += 1\n",
        "\n",
        "print(df_results)"
      ]
    },
    {
      "cell_type": "markdown",
      "metadata": {},
      "source": [
        "* Undersampling: mientras que el ENN y TomekLinks presentan un equilibrio entre la precisión y la sensibilidad, el RandomUndersampling tiene un valor alto para la sensibilidad y bajo para la precisión. El último de los tres es el que tiene mejor valor para el roc auc.\n",
        "* Oversampling: para todos ellos la precisión es baja y la sensibilidad es alta. Todos muestran un valor similar en roc auc.\n",
        "* Combinación de undersampling y oversampling: devuelven valores similares tanto para la precisión como para la sensibilidad. El valor roc auc es el mismo debido a que ambos aplican smote antes de la técnicas de undersampling, el cual ya obtiene un valor muy alto."
      ]
    },
    {
      "cell_type": "markdown",
      "metadata": {},
      "source": [
        "#### Cost-sensitive algorithms"
      ]
    },
    {
      "cell_type": "code",
      "execution_count": 36,
      "metadata": {},
      "outputs": [
        {
          "name": "stdout",
          "output_type": "stream",
          "text": [
            "Probabilidad > 0.50\n",
            "              precision    recall  f1-score   support\n",
            "\n",
            "           0       1.00      0.98      0.99     81957\n",
            "           1       0.06      0.92      0.12       148\n",
            "\n",
            "    accuracy                           0.98     82105\n",
            "   macro avg       0.53      0.95      0.55     82105\n",
            "weighted avg       1.00      0.98      0.99     82105\n",
            "\n",
            "Probabilidad > 0.75\n",
            "              precision    recall  f1-score   support\n",
            "\n",
            "           0       1.00      0.99      1.00     81957\n",
            "           1       0.16      0.91      0.27       148\n",
            "\n",
            "    accuracy                           0.99     82105\n",
            "   macro avg       0.58      0.95      0.63     82105\n",
            "weighted avg       1.00      0.99      0.99     82105\n",
            "\n",
            "Probabilidad > 0.85\n",
            "              precision    recall  f1-score   support\n",
            "\n",
            "           0       1.00      0.99      1.00     81957\n",
            "           1       0.22      0.90      0.36       148\n",
            "\n",
            "    accuracy                           0.99     82105\n",
            "   macro avg       0.61      0.95      0.68     82105\n",
            "weighted avg       1.00      0.99      1.00     82105\n",
            "\n",
            "[{'Class': 'Baseline', 'ROC AUC': 0.8951665573476401}, {'Class': 'RandomUnder', 'ROC AUC': 0.9483133706567947}, {'Class': 'TomekLinks', 'ROC AUC': 0.9019294148645515}, {'Class': 'ENN', 'ROC AUC': 0.8545833114860166}, {'Class': 'RandomOver', 'ROC AUC': 0.9545515628004005}, {'Class': 'ADASYN', 'ROC AUC': 0.952120244993337}, {'Class': 'SMOTE', 'ROC AUC': 0.9529804521751518}, {'Class': 'SMOTE-ENN', 'ROC AUC': 0.9564320396753868}, {'Class': 'SMOTE-TOMEK', 'ROC AUC': 0.9552240891647531}, {'Class': 0.5, 'ROC AUC': 0.9474165589140515}, {'Class': 0.75, 'ROC AUC': 0.9517068360501503}, {'Class': 0.85, 'ROC AUC': 0.9464691685719175}]\n"
          ]
        }
      ],
      "source": [
        "# Adjust threshold\n",
        "\n",
        "model = LogisticRegression(solver='liblinear', class_weight='balanced')\n",
        "# fit model\n",
        "model.fit(trainX, trainy)\n",
        "# predict on test set\n",
        "probs = [0.5, 0.75, 0.85]\n",
        "for pr in probs:\n",
        "    yhat = model.predict_proba(testX)[:, 1] > pr\n",
        "    print(\"Probabilidad > %.2f\" % pr)\n",
        "    print(classification_report(testy,yhat))\n",
        "    df_results.append(\n",
        "        {\n",
        "            'Class':pr,\n",
        "            'ROC AUC':roc_auc_score(testy,yhat)\n",
        "        }\n",
        "    )\n",
        "\n",
        "print(df_results)"
      ]
    },
    {
      "attachments": {},
      "cell_type": "markdown",
      "metadata": {},
      "source": [
        "Conforme se aumenta el threshold aumenta la precisión y se mantiene la sensibilidad. La tasa final en el roc auc no cambia."
      ]
    },
    {
      "cell_type": "markdown",
      "metadata": {},
      "source": [
        "#### Ensembles"
      ]
    },
    {
      "cell_type": "code",
      "execution_count": 37,
      "metadata": {},
      "outputs": [
        {
          "name": "stdout",
          "output_type": "stream",
          "text": [
            "BalancedBagging\n",
            "              precision    recall  f1-score   support\n",
            "\n",
            "           0       1.00      0.98      0.99     81957\n",
            "           1       0.07      0.93      0.13       148\n",
            "\n",
            "    accuracy                           0.98     82105\n",
            "   macro avg       0.54      0.96      0.56     82105\n",
            "weighted avg       1.00      0.98      0.99     82105\n",
            "\n",
            "RUSBoost\n",
            "              precision    recall  f1-score   support\n",
            "\n",
            "           0       1.00      0.97      0.98     81957\n",
            "           1       0.04      0.87      0.08       148\n",
            "\n",
            "    accuracy                           0.97     82105\n",
            "   macro avg       0.52      0.92      0.53     82105\n",
            "weighted avg       1.00      0.97      0.98     82105\n",
            "\n",
            "[{'Class': 'Baseline', 'ROC AUC': 0.8951665573476401}, {'Class': 'RandomUnder', 'ROC AUC': 0.9483133706567947}, {'Class': 'TomekLinks', 'ROC AUC': 0.9019294148645515}, {'Class': 'ENN', 'ROC AUC': 0.8545833114860166}, {'Class': 'RandomOver', 'ROC AUC': 0.9545515628004005}, {'Class': 'ADASYN', 'ROC AUC': 0.952120244993337}, {'Class': 'SMOTE', 'ROC AUC': 0.9529804521751518}, {'Class': 'SMOTE-ENN', 'ROC AUC': 0.9564320396753868}, {'Class': 'SMOTE-TOMEK', 'ROC AUC': 0.9552240891647531}, {'Class': 0.5, 'ROC AUC': 0.9474165589140515}, {'Class': 0.75, 'ROC AUC': 0.9517068360501503}, {'Class': 0.85, 'ROC AUC': 0.9464691685719175}, {'Class': 'BalancedBagging', 'ROC AUC': 0.9554239715025248}, {'Class': 'RUSBoost', 'ROC AUC': 0.9189727127837966}]\n"
          ]
        }
      ],
      "source": [
        "from imblearn.ensemble import BalancedBaggingClassifier\n",
        "from imblearn.ensemble import RUSBoostClassifier\n",
        "\n",
        "model = LogisticRegression(solver='liblinear')\n",
        "rf = BalancedBaggingClassifier(base_estimator=model)\n",
        "rus = RUSBoostClassifier(base_estimator=model)\n",
        "algs = [rf,rus]\n",
        "names = ['BalancedBagging','RUSBoost']\n",
        "nth = 0\n",
        "\n",
        "for und in algs:\n",
        "    pipe = und\n",
        "    pipe.fit(trainX, trainy)\n",
        "    yhat = pipe.predict(testX)\n",
        "    print(names[nth])\n",
        "    print(classification_report(testy,yhat))\n",
        "    df_results.append(\n",
        "        {\n",
        "            'Class':names[nth],\n",
        "            'ROC AUC':roc_auc_score(testy,yhat)\n",
        "        }\n",
        "    )\n",
        "    nth += 1\n",
        "\n",
        "print(df_results)"
      ]
    },
    {
      "attachments": {},
      "cell_type": "markdown",
      "metadata": {},
      "source": [
        "Tanto el BalancedBagging (basado en árboles de decisión) como el RUSBoost (basado en AdaBoost) muestran valores muy parecidos tanto para la precisión como para la sensibilidad. Para el roc auc, el BalancedBagging obtiene mejores resultados."
      ]
    },
    {
      "cell_type": "markdown",
      "metadata": {},
      "source": [
        "#### Comparison of algorithms"
      ]
    },
    {
      "cell_type": "code",
      "execution_count": 38,
      "metadata": {},
      "outputs": [
        {
          "data": {
            "text/html": [
              "<div>\n",
              "<style scoped>\n",
              "    .dataframe tbody tr th:only-of-type {\n",
              "        vertical-align: middle;\n",
              "    }\n",
              "\n",
              "    .dataframe tbody tr th {\n",
              "        vertical-align: top;\n",
              "    }\n",
              "\n",
              "    .dataframe thead th {\n",
              "        text-align: right;\n",
              "    }\n",
              "</style>\n",
              "<table border=\"1\" class=\"dataframe\">\n",
              "  <thead>\n",
              "    <tr style=\"text-align: right;\">\n",
              "      <th></th>\n",
              "      <th>Class</th>\n",
              "      <th>ROC AUC</th>\n",
              "    </tr>\n",
              "  </thead>\n",
              "  <tbody>\n",
              "    <tr>\n",
              "      <th>7</th>\n",
              "      <td>SMOTE-ENN</td>\n",
              "      <td>0.956432</td>\n",
              "    </tr>\n",
              "    <tr>\n",
              "      <th>12</th>\n",
              "      <td>BalancedBagging</td>\n",
              "      <td>0.955424</td>\n",
              "    </tr>\n",
              "    <tr>\n",
              "      <th>8</th>\n",
              "      <td>SMOTE-TOMEK</td>\n",
              "      <td>0.955224</td>\n",
              "    </tr>\n",
              "    <tr>\n",
              "      <th>4</th>\n",
              "      <td>RandomOver</td>\n",
              "      <td>0.954552</td>\n",
              "    </tr>\n",
              "    <tr>\n",
              "      <th>6</th>\n",
              "      <td>SMOTE</td>\n",
              "      <td>0.952980</td>\n",
              "    </tr>\n",
              "    <tr>\n",
              "      <th>5</th>\n",
              "      <td>ADASYN</td>\n",
              "      <td>0.952120</td>\n",
              "    </tr>\n",
              "    <tr>\n",
              "      <th>10</th>\n",
              "      <td>0.75</td>\n",
              "      <td>0.951707</td>\n",
              "    </tr>\n",
              "    <tr>\n",
              "      <th>1</th>\n",
              "      <td>RandomUnder</td>\n",
              "      <td>0.948313</td>\n",
              "    </tr>\n",
              "    <tr>\n",
              "      <th>9</th>\n",
              "      <td>0.5</td>\n",
              "      <td>0.947417</td>\n",
              "    </tr>\n",
              "    <tr>\n",
              "      <th>11</th>\n",
              "      <td>0.85</td>\n",
              "      <td>0.946469</td>\n",
              "    </tr>\n",
              "    <tr>\n",
              "      <th>13</th>\n",
              "      <td>RUSBoost</td>\n",
              "      <td>0.918973</td>\n",
              "    </tr>\n",
              "    <tr>\n",
              "      <th>2</th>\n",
              "      <td>TomekLinks</td>\n",
              "      <td>0.901929</td>\n",
              "    </tr>\n",
              "    <tr>\n",
              "      <th>0</th>\n",
              "      <td>Baseline</td>\n",
              "      <td>0.895167</td>\n",
              "    </tr>\n",
              "    <tr>\n",
              "      <th>3</th>\n",
              "      <td>ENN</td>\n",
              "      <td>0.854583</td>\n",
              "    </tr>\n",
              "  </tbody>\n",
              "</table>\n",
              "</div>"
            ],
            "text/plain": [
              "              Class   ROC AUC\n",
              "7         SMOTE-ENN  0.956432\n",
              "12  BalancedBagging  0.955424\n",
              "8       SMOTE-TOMEK  0.955224\n",
              "4        RandomOver  0.954552\n",
              "6             SMOTE  0.952980\n",
              "5            ADASYN  0.952120\n",
              "10             0.75  0.951707\n",
              "1       RandomUnder  0.948313\n",
              "9               0.5  0.947417\n",
              "11             0.85  0.946469\n",
              "13         RUSBoost  0.918973\n",
              "2        TomekLinks  0.901929\n",
              "0          Baseline  0.895167\n",
              "3               ENN  0.854583"
            ]
          },
          "metadata": {},
          "output_type": "display_data"
        },
        {
          "data": {
            "image/png": "[encoded data removed]",
            "text/plain": [
              "<Figure size 1080x360 with 1 Axes>"
            ]
          },
          "metadata": {
            "needs_background": "light"
          },
          "output_type": "display_data"
        }
      ],
      "source": [
        "df_results = pd.DataFrame(df_results)\n",
        "df_results.sort_values(by='ROC AUC', ascending=False, inplace=True)\n",
        "display(df_results)\n",
        "pyplot.figure(figsize=(15,5))\n",
        "\n",
        "ax = sns.barplot(data=df_results, x='Class', y='ROC AUC')\n",
        "labels=ax.get_xticklabels()\n",
        "ax.set_xticklabels(labels=labels,rotation=90)\n",
        "ax.set_ylim(0.60,0.9)\n",
        "pyplot.show()"
      ]
    },
    {
      "attachments": {},
      "cell_type": "markdown",
      "metadata": {},
      "source": [
        "Los mejores valores obtenidos para este estadístico los obtienen los métodos combinatorios y el BalancedBagging, seguido de los métodos de oversampling, métodos basados en threshold y acabando con métodos de undersampling. De nuevo en este problema, el método de Random Undersampling actúa mejor que el resto de métodos basados en undersampling. \n",
        "\n",
        "En comparación con el problema planteado en la sección 1, se puede ver que los métodos combinatorios y basados en ensemble obtienen los mejores resultados, mientras que los algoritmos basados en undersampling no mejoran en gran medida el rendimiento del algoritmo base."
      ]
    },
    {
      "attachments": {},
      "cell_type": "markdown",
      "metadata": {
        "id": "bynThaOT9mJb"
      },
      "source": [
        "## Bibliography\n",
        "\n",
        "Some advanced topics are covered in these links:\n",
        "\n",
        " https://towardsdatascience.com/methods-for-dealing-with-imbalanced-data-5b761be45a18\n",
        "\n",
        " https://www.kaggle.com/datasets/mlg-ulb/creditcardfraud\n",
        "\n",
        " https://machinelearningmastery.com/threshold-moving-for-imbalanced-classification/\n",
        "\n",
        " https://machinelearningmastery.com/tour-of-evaluation-metrics-for-imbalanced-classification/\n",
        "\n",
        " https://machinelearningmastery.com/tactics-to-combat-imbalanced-classes-in-your-machine-learning-dataset/"
      ]
    }
  ],
  "metadata": {
    "colab": {
      "provenance": []
    },
    "kernelspec": {
      "display_name": "Python 3",
      "language": "python",
      "name": "python3"
    },
    "language_info": {
      "codemirror_mode": {
        "name": "ipython",
        "version": 3
      },
      "file_extension": ".py",
      "mimetype": "text/x-python",
      "name": "python",
      "nbconvert_exporter": "python",
      "pygments_lexer": "ipython3",
      "version": "3.10.6"
    },
    "vscode": {
      "interpreter": {
        "hash": "916dbcbb3f70747c44a77c7bcd40155683ae19c65e1c03b4aa3499c5328201f1"
      }
    }
  },
  "nbformat": 4,
  "nbformat_minor": 0
}
